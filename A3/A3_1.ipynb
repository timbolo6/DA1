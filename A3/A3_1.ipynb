{
 "cells": [
  {
   "cell_type": "code",
   "execution_count": 48,
   "id": "ba0220cb-6acd-4c7d-a8e9-0f82e9329a1c",
   "metadata": {},
   "outputs": [],
   "source": [
    "from pyspark.sql import SparkSession\n",
    "from operator import add\n",
    "spark_session = SparkSession\\\n",
    "        .builder\\\n",
    "        .master(\"spark://192.168.2.119:7077\") \\\n",
    "        .appName(\"tim-wywiol-intro\")\\\n",
    "        .config(\"spark.dynamicAllocation.enabled\", True)\\\n",
    "        .config(\"spark.dynamicAllocation.shuffleTracking.enabled\",True)\\\n",
    "        .config(\"spark.shuffle.service.enabled\", False)\\\n",
    "        .config(\"spark.dynamicAllocation.executorIdleTimeout\",\"30s\")\\\n",
    "        .config(\"spark.executor.cores\",2)\\\n",
    "        .config(\"spark.driver.port\",9998)\\\n",
    "        .config(\"spark.blockManager.port\",10005)\\\n",
    "        .getOrCreate()\n",
    "# Old API (RDD)\n",
    "spark_context = spark_session.sparkContext\n",
    "\n",
    "spark_context.setLogLevel(\"ERROR\")"
   ]
  },
  {
   "cell_type": "code",
   "execution_count": 92,
   "id": "edf5e8d5-f2a7-41a6-b057-8db66ff5ae8c",
   "metadata": {},
   "outputs": [],
   "source": [
    "# Loading Data in SPARK RDD from HDFS\n",
    "rdd_lines_en = spark_context.textFile(\"hdfs://192.168.2.119:9000/europarl/europarl-v7.de-en.en\")\n",
    "rdd_lines_de = spark_context.textFile(\"hdfs://192.168.2.119:9000/europarl/europarl-v7.de-en.de\")\n"
   ]
  },
  {
   "cell_type": "code",
   "execution_count": 93,
   "id": "df534d78-5f92-46b4-9a0c-eb70d4406291",
   "metadata": {},
   "outputs": [
    {
     "name": "stdout",
     "output_type": "stream",
     "text": [
      "Resumption of the session\n",
      "3\n"
     ]
    },
    {
     "name": "stderr",
     "output_type": "stream",
     "text": [
      "                                                                                \r"
     ]
    },
    {
     "name": "stdout",
     "output_type": "stream",
     "text": [
      "1920209\n",
      "Wiederaufnahme der Sitzungsperiode\n",
      "3\n"
     ]
    },
    {
     "name": "stderr",
     "output_type": "stream",
     "text": [
      "[Stage 107:======================================>                  (2 + 1) / 3]\r"
     ]
    },
    {
     "name": "stdout",
     "output_type": "stream",
     "text": [
      "1920209\n"
     ]
    },
    {
     "name": "stderr",
     "output_type": "stream",
     "text": [
      "                                                                                \r"
     ]
    }
   ],
   "source": [
    "## A1 \n",
    "## Count lines\n",
    "print(rdd_lines_en.first())\n",
    "print(rdd_lines_en.getNumPartitions())\n",
    "print(rdd_lines_en.count())\n",
    "print(rdd_lines_de.first())\n",
    "print(rdd_lines_de.getNumPartitions())\n",
    "print(rdd_lines_de.count())"
   ]
  },
  {
   "cell_type": "code",
   "execution_count": 94,
   "id": "b3669335-0ee7-49a9-b2e5-be06f8cc5deb",
   "metadata": {},
   "outputs": [],
   "source": [
    "## A2\n",
    "#LowerCase RDD Text\n",
    "def TokLow(line):\n",
    "    new_line = line.lower()\n",
    "    return new_line.split()\n",
    "rdd_lines_en_low = rdd_lines_en.map(lambda x: TokLow(x))\n",
    "rdd_lines_de_low = rdd_lines_de.map(lambda x: TokLow(x))"
   ]
  },
  {
   "cell_type": "code",
   "execution_count": 95,
   "id": "ebc8d222-7b37-4f53-b559-82f84f9dc93a",
   "metadata": {},
   "outputs": [
    {
     "name": "stdout",
     "output_type": "stream",
     "text": [
      "[['resumption', 'of', 'the', 'session'], ['i', 'declare', 'resumed', 'the', 'session', 'of', 'the', 'european', 'parliament', 'adjourned', 'on', 'friday', '17', 'december', '1999,', 'and', 'i', 'would', 'like', 'once', 'again', 'to', 'wish', 'you', 'a', 'happy', 'new', 'year', 'in', 'the', 'hope', 'that', 'you', 'enjoyed', 'a', 'pleasant', 'festive', 'period.']]\n"
     ]
    },
    {
     "name": "stderr",
     "output_type": "stream",
     "text": [
      "                                                                                \r"
     ]
    },
    {
     "name": "stdout",
     "output_type": "stream",
     "text": [
      "1920209\n",
      "[['wiederaufnahme', 'der', 'sitzungsperiode'], ['ich', 'erkläre', 'die', 'am', 'freitag,', 'dem', '17.', 'dezember', 'unterbrochene', 'sitzungsperiode', 'des', 'europäischen', 'parlaments', 'für', 'wiederaufgenommen,', 'wünsche', 'ihnen', 'nochmals', 'alles', 'gute', 'zum', 'jahreswechsel', 'und', 'hoffe,', 'daß', 'sie', 'schöne', 'ferien', 'hatten.']]\n"
     ]
    },
    {
     "name": "stderr",
     "output_type": "stream",
     "text": [
      "[Stage 111:===================>                                     (1 + 2) / 3]\r"
     ]
    },
    {
     "name": "stdout",
     "output_type": "stream",
     "text": [
      "1920209\n"
     ]
    },
    {
     "name": "stderr",
     "output_type": "stream",
     "text": [
      "                                                                                \r"
     ]
    }
   ],
   "source": [
    "print(rdd_lines_en_low.take(2))\n",
    "print(rdd_lines_en_low.count())\n",
    "print(rdd_lines_de_low.take(2))\n",
    "print(rdd_lines_de_low.count())"
   ]
  },
  {
   "cell_type": "code",
   "execution_count": 32,
   "id": "6826a46a-e92b-4bee-bc89-fdeabe75cb89",
   "metadata": {},
   "outputs": [
    {
     "name": "stdout",
     "output_type": "stream",
     "text": [
      "[('resumption', 1), ('of', 1), ('the', 1), ('session', 1), ('i', 1), ('declare', 1), ('resumed', 1), ('the', 1), ('session', 1), ('of', 1), ('the', 1), ('european', 1), ('parliament', 1), ('adjourned', 1), ('on', 1), ('friday', 1), ('17', 1), ('december', 1), ('1999,', 1), ('and', 1)]\n"
     ]
    }
   ],
   "source": [
    "## A3\n",
    "# Count 10 most frequent words\n",
    "# Map\n",
    "all_words_en = rdd_lines_en_low\\\n",
    "                                .flatMap(lambda w: w)\\\n",
    "                                .map(lambda l: (l,1))\n",
    "print(all_words_en.take(20))\n"
   ]
  },
  {
   "cell_type": "code",
   "execution_count": 37,
   "id": "8c86ddfc-221d-464e-9635-8381a9fb2fa9",
   "metadata": {},
   "outputs": [
    {
     "name": "stderr",
     "output_type": "stream",
     "text": [
      "[Stage 34:======================================>                   (2 + 1) / 3]\r"
     ]
    },
    {
     "name": "stdout",
     "output_type": "stream",
     "text": [
      "[('the', 3663317), ('of', 1737096), ('to', 1611846), ('and', 1345289), ('in', 1134117), ('that', 835926), ('a', 810820), ('is', 792599), ('for', 557377), ('we', 551272)]\n"
     ]
    },
    {
     "name": "stderr",
     "output_type": "stream",
     "text": [
      "                                                                                \r"
     ]
    }
   ],
   "source": [
    "from operator import add\n",
    "all_words_counts_en = all_words_en.reduceByKey(add)\n",
    "print(all_words_counts_en.takeOrdered(10, key=lambda x: -x[1]))"
   ]
  },
  {
   "cell_type": "code",
   "execution_count": 38,
   "id": "d24bfc6e-9fb9-4841-8b80-ac0cf26c8e64",
   "metadata": {},
   "outputs": [
    {
     "name": "stderr",
     "output_type": "stream",
     "text": [
      "[Stage 36:======================================>                   (2 + 1) / 3]\r"
     ]
    },
    {
     "name": "stdout",
     "output_type": "stream",
     "text": [
      "[('die', 1980588), ('der', 1710400), ('und', 1338008), ('in', 781398), ('zu', 618887), ('den', 577690), ('wir', 489054), ('für', 478353), ('ich', 469069), ('das', 466167)]\n"
     ]
    },
    {
     "name": "stderr",
     "output_type": "stream",
     "text": [
      "                                                                                \r"
     ]
    }
   ],
   "source": [
    "## A3 Deutsch\n",
    "all_words_de = rdd_lines_de_low\\\n",
    "                                .flatMap(lambda w: w)\\\n",
    "                                .map(lambda l: (l,1))\n",
    "all_words_counts_de = all_words_de.reduceByKey(add)\n",
    "print(all_words_counts_de.takeOrdered(10, key=lambda x: -x[1]))"
   ]
  },
  {
   "cell_type": "code",
   "execution_count": 96,
   "id": "c11d8ab9-bbbd-4011-afa0-8eaec018cf86",
   "metadata": {},
   "outputs": [
    {
     "name": "stderr",
     "output_type": "stream",
     "text": [
      "[Stage 112:======================================>                  (2 + 1) / 3]\r"
     ]
    },
    {
     "name": "stdout",
     "output_type": "stream",
     "text": [
      "[(0, ['resumption', 'of', 'the', 'session']), (1, ['i', 'declare', 'resumed', 'the', 'session', 'of', 'the', 'european', 'parliament', 'adjourned', 'on', 'friday', '17', 'december', '1999,', 'and', 'i', 'would', 'like', 'once', 'again', 'to', 'wish', 'you', 'a', 'happy', 'new', 'year', 'in', 'the', 'hope', 'that', 'you', 'enjoyed', 'a', 'pleasant', 'festive', 'period.']), (2, ['although,', 'as', 'you', 'will', 'have', 'seen,', 'the', 'dreaded', \"'millennium\", \"bug'\", 'failed', 'to', 'materialise,', 'still', 'the', 'people', 'in', 'a', 'number', 'of', 'countries', 'suffered', 'a', 'series', 'of', 'natural', 'disasters', 'that', 'truly', 'were', 'dreadful.'])]\n"
     ]
    },
    {
     "name": "stderr",
     "output_type": "stream",
     "text": [
      "                                                                                \r"
     ]
    }
   ],
   "source": [
    "#######  A4   #################################################################\n",
    "#1 key line ((1, [w1, w2, w3]), (2, [w1,w2,w3])...\n",
    "en_1  = rdd_lines_en_low.zipWithIndex()\n",
    "#[(['resumption', 'of', 'the', 'session'], 0),\n",
    "en_2 = en_1.map(lambda x: (x[1], x[0]))\n",
    "print(en_2.take(3))"
   ]
  },
  {
   "cell_type": "code",
   "execution_count": 97,
   "id": "781674e8-a945-45b7-8ce4-f9d61d24ded8",
   "metadata": {},
   "outputs": [
    {
     "name": "stderr",
     "output_type": "stream",
     "text": [
      "                                                                                \r"
     ]
    }
   ],
   "source": [
    "de_1  = rdd_lines_de_low.zipWithIndex()\n",
    "de_2 = de_1.map(lambda x: (x[1], x[0]))"
   ]
  },
  {
   "cell_type": "code",
   "execution_count": 98,
   "id": "82802434-75c3-43ea-ac29-e9e00835db50",
   "metadata": {},
   "outputs": [
    {
     "name": "stdout",
     "output_type": "stream",
     "text": [
      "[(0, ['resumption', 'of', 'the', 'session']), (1, ['i', 'declare', 'resumed', 'the', 'session', 'of', 'the', 'european', 'parliament', 'adjourned', 'on', 'friday', '17', 'december', '1999,', 'and', 'i', 'would', 'like', 'once', 'again', 'to', 'wish', 'you', 'a', 'happy', 'new', 'year', 'in', 'the', 'hope', 'that', 'you', 'enjoyed', 'a', 'pleasant', 'festive', 'period.'])]\n",
      "[(0, ['wiederaufnahme', 'der', 'sitzungsperiode']), (1, ['ich', 'erkläre', 'die', 'am', 'freitag,', 'dem', '17.', 'dezember', 'unterbrochene', 'sitzungsperiode', 'des', 'europäischen', 'parlaments', 'für', 'wiederaufgenommen,', 'wünsche', 'ihnen', 'nochmals', 'alles', 'gute', 'zum', 'jahreswechsel', 'und', 'hoffe,', 'daß', 'sie', 'schöne', 'ferien', 'hatten.'])]\n"
     ]
    },
    {
     "name": "stderr",
     "output_type": "stream",
     "text": [
      "[Stage 118:>                                                        (0 + 1) / 1]\r"
     ]
    },
    {
     "name": "stdout",
     "output_type": "stream",
     "text": [
      "[(696, (['if', 'we', 'do', 'not', 'wish', 'to', 'stand', 'accused', 'of', 'pursuing', 'a', 'cost-intensive', 'structural', 'policy', 'that', 'does', 'nothing', 'to', 'improve', 'the', 'unemployment', 'situation', 'in', 'the', 'long', 'term,', 'then', 'the', 'measures', 'drawn', 'up', 'so', 'far', 'must', 'be', 'analysed.'], ['wenn', 'wir', 'uns', 'nicht', 'den', 'vorwurf', 'gefallen', 'lassen', 'wollen,', 'eine', 'kostenintensive', 'strukturpolitik', 'zu', 'betreiben,', 'die', 'in', 'der', 'frage', 'der', 'beschäftigung', 'nichts', 'nachhaltig', 'bewegt,', 'müssen', 'die', 'bisherigen', 'maßnahmen', 'hinterfragt', 'werden.'])), (23736, (['with', 'regard', 'to', 'the', 'trans-european', 'networks', 'we', 'cannot', 'include', 'anything', 'which', 'is', 'not', 'supported', 'by', 'the', 'member', 'states.'], ['in', 'die', 'transeuropäischen', 'netze', 'können', 'wir', 'nichts', 'aufnehmen,', 'was', 'von', 'den', 'mitgliedstaaten', 'nicht', 'unterstützt', 'wird.'])), (24966, (['of', 'course,', 'we', 'hope', 'that', 'this', 'will', 'not', 'be', 'necessary', 'because', 'the', 'member', 'states', 'will', 'provide', 'us', 'with', 'their', 'lists.'], ['natürlich', 'hoffen', 'wir,', 'daß', 'das', 'nicht', 'nötig', 'sein', 'wird,', 'weil', 'die', 'mitgliedstaaten', 'ihre', 'listen', 'einreichen.'])), (25506, (['we', 'have', 'a', 'scandal', 'at', 'the', 'moment', 'in', 'latvia', 'which', 'allegedly', 'goes', 'to', 'the', 'very', 'heart', 'of', 'the', 'government.'], ['der', 'skandal,', 'der', 'vor', 'kurzem', 'in', 'lettland', 'aufgedeckt', 'wurde,', 'scheint', 'bis', 'in', 'die', 'höchsten', 'regierungskreise', 'hineinzureichen.'])), (41532, (['agriculture', 'is', 'absolutely', 'vital', 'to', 'many', 'of', 'these', 'regions,', 'which', 'are', 'hoping', 'that', 'the', 'commission', 'will', 'act', 'swiftly', 'and', 'decisively', 'to', 'maintain', 'regional', 'conditions', 'for', 'agricultural', 'development.'], ['in', 'einem', 'großen', 'teil', 'dieser', 'gebiete', 'ist', 'die', 'landwirtschaft', 'ein', 'absolut', 'lebenswichtiger', 'bereich.', 'man', 'erwartet', 'dort,', 'daß', 'die', 'kommission', 'schnell', 'und', 'entschlossen', 'handelt,', 'damit', 'die', 'regionalen', 'voraussetzungen', 'für', 'die', 'entwicklung', 'der', 'landwirtschaft', 'erhalten', 'bleiben.']))]\n"
     ]
    },
    {
     "name": "stderr",
     "output_type": "stream",
     "text": [
      "                                                                                \r"
     ]
    }
   ],
   "source": [
    "#4.3 Join RDDs\n",
    "print(en_2.take(2))\n",
    "print(de_2.take(2))\n",
    "join_3 = en_2.join(de_2)\n",
    "print(join_3.take(5))"
   ]
  },
  {
   "cell_type": "code",
   "execution_count": 85,
   "id": "b25160d0-c4b8-40aa-b944-d0c0f64d7b96",
   "metadata": {},
   "outputs": [
    {
     "name": "stdout",
     "output_type": "stream",
     "text": [
      "[(4, (['Test2'], [])), (1, (['Die', 'Sonne', 'lacht', 'sehr'], ['The', 'Sun', 'shines'])), (2, (['Hi', 'Baum'], ['Hej', 'Tree'])), (3, ([], ['Test']))]\n"
     ]
    }
   ],
   "source": [
    "####### EXAMPLE\n",
    "x = spark_context.parallelize([(2, [\"Hi\",\"Baum\"]), (1, [\"Die\",\"Sonne\",\"lacht\", \"sehr\"]), (3, []),(4, [\"Test2\"])])\n",
    "y = spark_context.parallelize([(2, [\"Hej\",\"Tree\"]), (1, [\"The\",\"Sun\",\"shines\"]), (3, [\"Test\"]), (4, [])])\n",
    "join = x.join(y)\n",
    "print(join.collect())\n",
    "\n",
    " "
   ]
  },
  {
   "cell_type": "code",
   "execution_count": 86,
   "id": "7256066e-e630-4a06-91f2-b718b313aefc",
   "metadata": {},
   "outputs": [
    {
     "name": "stdout",
     "output_type": "stream",
     "text": [
      "[1, 4, 2, 0]\n",
      "[(2, (['Hi', 'Baum'], ['Hej', 'Tree']))]\n"
     ]
    }
   ],
   "source": [
    "print(join.map(lambda x: len(x[1][0])).collect())\n",
    "result = join \\\n",
    "    .filter(lambda x: (len(x[1][0]) != 0)) \\\n",
    "    .filter(lambda x: (len(x[1][1]) != 0)) \\\n",
    "    .filter(lambda x: (len(x[1][1]) <= 5)) \\\n",
    "    .filter(lambda x: (len(x[1][1])) == (len(x[1][0]))) \n",
    "print(result.collect())"
   ]
  },
  {
   "cell_type": "code",
   "execution_count": 99,
   "id": "5a9573aa-a1c0-4ff6-afd2-452e21934d45",
   "metadata": {},
   "outputs": [
    {
     "name": "stderr",
     "output_type": "stream",
     "text": [
      "[Stage 120:>                                                        (0 + 1) / 1]\r"
     ]
    },
    {
     "name": "stdout",
     "output_type": "stream",
     "text": [
      "[(40224, (['question', 'no', '7', 'by', '(h-0274/00):'], ['anfrage', 'nr.', '7', 'von', '(h-0274/00):'])), (98064, (['fatuzzo', '(ppe-de).'], ['fatuzzo', '(ppe-de).'])), (98772, (['it', 'is', 'now', 'or', 'never.'], ['es', 'gilt', 'jetzt', 'oder', 'nie.'])), (195702, (['but', 'in', 'reality', 'they', 'do', 'not.'], ['aber', 'in', 'wirklichkeit', 'funktioniert', 'das', 'nicht.'])), (369954, (['in', 'my', 'opinion', 'the', 'report', 'before', 'us', 'is', 'excellent.'], ['meiner', 'meinung', 'nach', 'liegt', 'uns', 'ein', 'ausgezeichneter', 'bericht', 'vor.']))]\n"
     ]
    },
    {
     "name": "stderr",
     "output_type": "stream",
     "text": [
      "                                                                                \r"
     ]
    }
   ],
   "source": [
    "## A4.4 Exclude\n",
    "# Exclude missing corresponding sentences\n",
    "en_4 = join_3 \\\n",
    "    .filter(lambda x: len(x[1][0]) != 0) \\\n",
    "    .filter(lambda x: len(x[1][1]) != 0) \\\n",
    "    .filter(lambda x: len(x[1][0]) < 10) \\\n",
    "    .filter(lambda x: len(x[1][1]) == len(x[1][0])) \n",
    "         \n",
    "print(en_4.take(5))"
   ]
  },
  {
   "cell_type": "code",
   "execution_count": 115,
   "id": "662cbf31-c83a-4636-a98c-7accd87e0c02",
   "metadata": {},
   "outputs": [
    {
     "name": "stderr",
     "output_type": "stream",
     "text": [
      "[Stage 128:>                                                        (0 + 1) / 1]\r"
     ]
    },
    {
     "name": "stdout",
     "output_type": "stream",
     "text": [
      "[('we', 'wir'), ('have', 'haben'), ('a', 'eine'), ('new', 'neue')]\n"
     ]
    },
    {
     "name": "stderr",
     "output_type": "stream",
     "text": [
      "                                                                                \r"
     ]
    }
   ],
   "source": [
    "## A4.7\n",
    "en_7 = en_4.flatMap(lambda x: tuple(zip(x[1][0], x[1][1])))\n",
    "print(en_7.take(4))"
   ]
  },
  {
   "cell_type": "code",
   "execution_count": 118,
   "id": "2ca89660-03c2-452d-9a08-9a954e469da7",
   "metadata": {},
   "outputs": [
    {
     "name": "stderr",
     "output_type": "stream",
     "text": [
      "[Stage 130:===============================================>         (5 + 1) / 6]\r"
     ]
    },
    {
     "name": "stdout",
     "output_type": "stream",
     "text": [
      "[(('have', 'haben'), 964), (('be', 'wir'), 54), (('our', 'uns'), 7), (('report', 'cederschiöld'), 5), (('(b5-0227/2000)', '(b5-0227/2000)'), 1)]\n"
     ]
    },
    {
     "name": "stderr",
     "output_type": "stream",
     "text": [
      "                                                                                \r"
     ]
    }
   ],
   "source": [
    "from operator import add\n",
    "en_8 = en_7 \\\n",
    "    .map(lambda x: (x,1)) \\\n",
    "    .reduceByKey(add)\n"
   ]
  },
  {
   "cell_type": "code",
   "execution_count": 120,
   "id": "dde27a8a-965c-4ce1-9172-ecb8af351809",
   "metadata": {},
   "outputs": [
    {
     "name": "stdout",
     "output_type": "stream",
     "text": [
      "[(('is', 'ist'), 11734), (('the', 'die'), 9815), (('debate', 'aussprache'), 4578), (('we', 'wir'), 4412), (('i', 'ich'), 4391), (('closed.', 'geschlossen.'), 4329), (('the', 'der'), 3085), (('that', 'das'), 2802), (('(applause)', '(beifall)'), 2746), (('.', '.'), 2644), (('and', 'und'), 2490), (('this', 'das'), 1894), (('mr', 'herr'), 1846), (('not', 'nicht'), 1703), (('thank', 'vielen'), 1593), (('a', 'eine'), 1454), (('are', 'sind'), 1449), (('a', 'ein'), 1440), (('by', 'von'), 1434), (('no', 'nr.'), 1407)]\n"
     ]
    }
   ],
   "source": [
    "print(en_8.takeOrdered(20, key=lambda x: -x[1]))"
   ]
  },
  {
   "cell_type": "code",
   "execution_count": 47,
   "id": "61d6998e-3d14-4cdc-ad4f-4cdc37535024",
   "metadata": {},
   "outputs": [],
   "source": [
    "# release the cores for another application!\n",
    "spark_context.stop()"
   ]
  }
 ],
 "metadata": {
  "kernelspec": {
   "display_name": "Python 3 (ipykernel)",
   "language": "python",
   "name": "python3"
  },
  "language_info": {
   "codemirror_mode": {
    "name": "ipython",
    "version": 3
   },
   "file_extension": ".py",
   "mimetype": "text/x-python",
   "name": "python",
   "nbconvert_exporter": "python",
   "pygments_lexer": "ipython3",
   "version": "3.8.10"
  }
 },
 "nbformat": 4,
 "nbformat_minor": 5
}
