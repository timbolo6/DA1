{
 "cells": [
  {
   "cell_type": "markdown",
   "id": "509a9d14-692a-44ad-b4b7-2354a82012e0",
   "metadata": {},
   "source": [
    "# Configuration of Spark Session to Spark Cluster"
   ]
  },
  {
   "cell_type": "code",
   "execution_count": 6,
   "id": "9c5ba0b0-95f0-421d-beda-e84e7c269c7d",
   "metadata": {},
   "outputs": [],
   "source": [
    "from pyspark.sql import SparkSession\n",
    "from operator import add\n",
    "spark_session = SparkSession\\\n",
    "        .builder\\\n",
    "        .master(\"spark://192.168.2.70:7077\") \\\n",
    "        .appName(\"tim-wywiol-A1\")\\\n",
    "        .config(\"spark.dynamicAllocation.enabled\", True)\\\n",
    "        .config(\"spark.dynamicAllocation.shuffleTracking.enabled\",True)\\\n",
    "        .config(\"spark.shuffle.service.enabled\", False)\\\n",
    "        .config(\"spark.dynamicAllocation.executorIdleTimeout\",\"30s\")\\\n",
    "        .config(\"spark.executor.cores\",2)\\\n",
    "        .config(\"spark.driver.port\",9998)\\\n",
    "        .config(\"spark.blockManager.port\",10005)\\\n",
    "        .getOrCreate()\n",
    "# Old API (RDD)\n",
    "spark_context = spark_session.sparkContext\n",
    "\n",
    "spark_context.setLogLevel(\"ERROR\")\n",
    "#TA-19-02-2023: 130.238.28.98 --> 192.168.2.70\n",
    "#old: .master(\"spark://192.168.2.119:7077\") \\"
   ]
  },
  {
   "cell_type": "markdown",
   "id": "d1090dc2-c89e-45da-9c1f-d97006105177",
   "metadata": {
    "tags": []
   },
   "source": [
    "# Loading Data in SPARK RDD from HDFS"
   ]
  },
  {
   "cell_type": "code",
   "execution_count": 7,
   "id": "edf5e8d5-f2a7-41a6-b057-8db66ff5ae8c",
   "metadata": {},
   "outputs": [],
   "source": [
    "rdd_lines_en = spark_context.textFile(\"hdfs://192.168.2.70:9000/europarl/europarl-v7.de-en.en\")\n",
    "rdd_lines_de = spark_context.textFile(\"hdfs://192.168.2.70:9000/europarl/europarl-v7.de-en.de\")\n"
   ]
  },
  {
   "cell_type": "markdown",
   "id": "8d3732b9-a5c0-4ae6-92bb-d6b9ab992e94",
   "metadata": {},
   "source": [
    "# A1 "
   ]
  },
  {
   "cell_type": "code",
   "execution_count": 8,
   "id": "df534d78-5f92-46b4-9a0c-eb70d4406291",
   "metadata": {},
   "outputs": [
    {
     "name": "stderr",
     "output_type": "stream",
     "text": [
      "                                                                                \r"
     ]
    },
    {
     "name": "stdout",
     "output_type": "stream",
     "text": [
      "Resumption of the session\n",
      "3\n"
     ]
    },
    {
     "name": "stderr",
     "output_type": "stream",
     "text": [
      "                                                                                \r"
     ]
    },
    {
     "name": "stdout",
     "output_type": "stream",
     "text": [
      "1920209\n"
     ]
    },
    {
     "name": "stderr",
     "output_type": "stream",
     "text": [
      "                                                                                \r"
     ]
    },
    {
     "name": "stdout",
     "output_type": "stream",
     "text": [
      "Wiederaufnahme der Sitzungsperiode\n",
      "3\n"
     ]
    },
    {
     "name": "stderr",
     "output_type": "stream",
     "text": [
      "[Stage 7:=======================================>                   (2 + 1) / 3]\r"
     ]
    },
    {
     "name": "stdout",
     "output_type": "stream",
     "text": [
      "1920209\n"
     ]
    },
    {
     "name": "stderr",
     "output_type": "stream",
     "text": [
      "\r",
      "                                                                                \r"
     ]
    }
   ],
   "source": [
    "## A1 \n",
    "## Count lines\n",
    "print(rdd_lines_en.first())\n",
    "print(rdd_lines_en.getNumPartitions())\n",
    "print(rdd_lines_en.count())\n",
    "print(rdd_lines_de.first())\n",
    "print(rdd_lines_de.getNumPartitions())\n",
    "print(rdd_lines_de.count())"
   ]
  },
  {
   "cell_type": "markdown",
   "id": "537d0583-6138-4f62-af8f-25f1d6410374",
   "metadata": {},
   "source": [
    "# A2"
   ]
  },
  {
   "cell_type": "code",
   "execution_count": 9,
   "id": "b3669335-0ee7-49a9-b2e5-be06f8cc5deb",
   "metadata": {},
   "outputs": [],
   "source": [
    "## A2\n",
    "#LowerCase RDD Text\n",
    "def TokLow(line):\n",
    "    new_line = line.lower()\n",
    "    return new_line.split()\n",
    "rdd_lines_en_low = rdd_lines_en.map(lambda x: TokLow(x))\n",
    "rdd_lines_de_low = rdd_lines_de.map(lambda x: TokLow(x))"
   ]
  },
  {
   "cell_type": "code",
   "execution_count": 5,
   "id": "ebc8d222-7b37-4f53-b559-82f84f9dc93a",
   "metadata": {},
   "outputs": [
    {
     "name": "stderr",
     "output_type": "stream",
     "text": [
      "\r",
      "[Stage 4:>                                                          (0 + 1) / 1]\r",
      "\r",
      "                                                                                \r"
     ]
    },
    {
     "name": "stdout",
     "output_type": "stream",
     "text": [
      "[['resumption', 'of', 'the', 'session'], ['i', 'declare', 'resumed', 'the', 'session', 'of', 'the', 'european', 'parliament', 'adjourned', 'on', 'friday', '17', 'december', '1999,', 'and', 'i', 'would', 'like', 'once', 'again', 'to', 'wish', 'you', 'a', 'happy', 'new', 'year', 'in', 'the', 'hope', 'that', 'you', 'enjoyed', 'a', 'pleasant', 'festive', 'period.'], ['although,', 'as', 'you', 'will', 'have', 'seen,', 'the', 'dreaded', \"'millennium\", \"bug'\", 'failed', 'to', 'materialise,', 'still', 'the', 'people', 'in', 'a', 'number', 'of', 'countries', 'suffered', 'a', 'series', 'of', 'natural', 'disasters', 'that', 'truly', 'were', 'dreadful.'], ['you', 'have', 'requested', 'a', 'debate', 'on', 'this', 'subject', 'in', 'the', 'course', 'of', 'the', 'next', 'few', 'days,', 'during', 'this', 'part-session.'], ['in', 'the', 'meantime,', 'i', 'should', 'like', 'to', 'observe', 'a', \"minute'\", 's', 'silence,', 'as', 'a', 'number', 'of', 'members', 'have', 'requested,', 'on', 'behalf', 'of', 'all', 'the', 'victims', 'concerned,', 'particularly', 'those', 'of', 'the', 'terrible', 'storms,', 'in', 'the', 'various', 'countries', 'of', 'the', 'european', 'union.'], ['please', 'rise,', 'then,', 'for', 'this', \"minute'\", 's', 'silence.'], ['(the', 'house', 'rose', 'and', 'observed', 'a', \"minute'\", 's', 'silence)'], ['madam', 'president,', 'on', 'a', 'point', 'of', 'order.'], ['you', 'will', 'be', 'aware', 'from', 'the', 'press', 'and', 'television', 'that', 'there', 'have', 'been', 'a', 'number', 'of', 'bomb', 'explosions', 'and', 'killings', 'in', 'sri', 'lanka.'], ['one', 'of', 'the', 'people', 'assassinated', 'very', 'recently', 'in', 'sri', 'lanka', 'was', 'mr', 'kumar', 'ponnambalam,', 'who', 'had', 'visited', 'the', 'european', 'parliament', 'just', 'a', 'few', 'months', 'ago.']]\n"
     ]
    },
    {
     "name": "stderr",
     "output_type": "stream",
     "text": [
      "                                                                                \r"
     ]
    },
    {
     "name": "stdout",
     "output_type": "stream",
     "text": [
      "1920209\n"
     ]
    },
    {
     "name": "stderr",
     "output_type": "stream",
     "text": [
      "                                                                                \r"
     ]
    },
    {
     "name": "stdout",
     "output_type": "stream",
     "text": [
      "[['wiederaufnahme', 'der', 'sitzungsperiode'], ['ich', 'erkläre', 'die', 'am', 'freitag,', 'dem', '17.', 'dezember', 'unterbrochene', 'sitzungsperiode', 'des', 'europäischen', 'parlaments', 'für', 'wiederaufgenommen,', 'wünsche', 'ihnen', 'nochmals', 'alles', 'gute', 'zum', 'jahreswechsel', 'und', 'hoffe,', 'daß', 'sie', 'schöne', 'ferien', 'hatten.'], ['wie', 'sie', 'feststellen', 'konnten,', 'ist', 'der', 'gefürchtete', '\"millenium-bug', '\"', 'nicht', 'eingetreten.', 'doch', 'sind', 'bürger', 'einiger', 'unserer', 'mitgliedstaaten', 'opfer', 'von', 'schrecklichen', 'naturkatastrophen', 'geworden.'], ['im', 'parlament', 'besteht', 'der', 'wunsch', 'nach', 'einer', 'aussprache', 'im', 'verlauf', 'dieser', 'sitzungsperiode', 'in', 'den', 'nächsten', 'tagen.'], ['heute', 'möchte', 'ich', 'sie', 'bitten', '-', 'das', 'ist', 'auch', 'der', 'wunsch', 'einiger', 'kolleginnen', 'und', 'kollegen', '-,', 'allen', 'opfern', 'der', 'stürme,', 'insbesondere', 'in', 'den', 'verschiedenen', 'ländern', 'der', 'europäischen', 'union,', 'in', 'einer', 'schweigeminute', 'zu', 'gedenken.'], ['ich', 'bitte', 'sie,', 'sich', 'zu', 'einer', 'schweigeminute', 'zu', 'erheben.'], ['(das', 'parlament', 'erhebt', 'sich', 'zu', 'einer', 'schweigeminute.)'], ['frau', 'präsidentin,', 'zur', 'geschäftsordnung.'], ['wie', 'sie', 'sicher', 'aus', 'der', 'presse', 'und', 'dem', 'fernsehen', 'wissen,', 'gab', 'es', 'in', 'sri', 'lanka', 'mehrere', 'bombenexplosionen', 'mit', 'zahlreichen', 'toten.'], ['zu', 'den', 'attentatsopfern,', 'die', 'es', 'in', 'jüngster', 'zeit', 'in', 'sri', 'lanka', 'zu', 'beklagen', 'gab,', 'zählt', 'auch', 'herr', 'kumar', 'ponnambalam,', 'der', 'dem', 'europäischen', 'parlament', 'erst', 'vor', 'wenigen', 'monaten', 'einen', 'besuch', 'abgestattet', 'hatte.']]\n"
     ]
    },
    {
     "name": "stderr",
     "output_type": "stream",
     "text": [
      "[Stage 7:=======================================>                   (2 + 1) / 3]\r"
     ]
    },
    {
     "name": "stdout",
     "output_type": "stream",
     "text": [
      "1920209\n"
     ]
    },
    {
     "name": "stderr",
     "output_type": "stream",
     "text": [
      "\r",
      "                                                                                \r"
     ]
    }
   ],
   "source": [
    "#A.2.2 / A.2.3\n",
    "print(rdd_lines_en_low.take(10))\n",
    "print(rdd_lines_en_low.count())\n",
    "print(rdd_lines_de_low.take(10))\n",
    "print(rdd_lines_de_low.count())"
   ]
  },
  {
   "cell_type": "markdown",
   "id": "47397402-9144-478b-8286-b78928cf7cb0",
   "metadata": {},
   "source": [
    "# A3"
   ]
  },
  {
   "cell_type": "code",
   "execution_count": 6,
   "id": "6826a46a-e92b-4bee-bc89-fdeabe75cb89",
   "metadata": {},
   "outputs": [
    {
     "name": "stdout",
     "output_type": "stream",
     "text": [
      "[('resumption', 1), ('of', 1), ('the', 1), ('session', 1), ('i', 1), ('declare', 1), ('resumed', 1), ('the', 1), ('session', 1), ('of', 1), ('the', 1), ('european', 1), ('parliament', 1), ('adjourned', 1), ('on', 1), ('friday', 1), ('17', 1), ('december', 1), ('1999,', 1), ('and', 1)]\n"
     ]
    },
    {
     "name": "stderr",
     "output_type": "stream",
     "text": [
      "\r",
      "[Stage 8:>                                                          (0 + 1) / 1]\r",
      "\r",
      "                                                                                \r"
     ]
    }
   ],
   "source": [
    "## A3\n",
    "# Count 10 most frequent words\n",
    "# Map\n",
    "all_words_en = rdd_lines_en_low\\\n",
    "                                .flatMap(lambda w: w)\\\n",
    "                                .map(lambda l: (l,1))\n",
    "print(all_words_en.take(20))\n"
   ]
  },
  {
   "cell_type": "code",
   "execution_count": 7,
   "id": "8c86ddfc-221d-464e-9635-8381a9fb2fa9",
   "metadata": {},
   "outputs": [
    {
     "name": "stderr",
     "output_type": "stream",
     "text": [
      "[Stage 9:=======================================>                   (2 + 1) / 3]\r"
     ]
    },
    {
     "name": "stdout",
     "output_type": "stream",
     "text": [
      "[('the', 3663317), ('of', 1737096), ('to', 1611846), ('and', 1345289), ('in', 1134117), ('that', 835926), ('a', 810820), ('is', 792599), ('for', 557377), ('we', 551272)]\n"
     ]
    },
    {
     "name": "stderr",
     "output_type": "stream",
     "text": [
      "\r",
      "                                                                                \r"
     ]
    }
   ],
   "source": [
    "all_words_counts_en = all_words_en.reduceByKey(add)\n",
    "print(all_words_counts_en.takeOrdered(10, key=lambda x: -x[1]))"
   ]
  },
  {
   "cell_type": "code",
   "execution_count": 8,
   "id": "d24bfc6e-9fb9-4841-8b80-ac0cf26c8e64",
   "metadata": {},
   "outputs": [
    {
     "name": "stderr",
     "output_type": "stream",
     "text": [
      "[Stage 11:======================================>                   (2 + 1) / 3]\r"
     ]
    },
    {
     "name": "stdout",
     "output_type": "stream",
     "text": [
      "[('die', 1980588), ('der', 1710400), ('und', 1338008), ('in', 781398), ('zu', 618887), ('den', 577690), ('wir', 489054), ('für', 478353), ('ich', 469069), ('das', 466167)]\n"
     ]
    },
    {
     "name": "stderr",
     "output_type": "stream",
     "text": [
      "\r",
      "                                                                                \r"
     ]
    }
   ],
   "source": [
    "## A3 Deutsch\n",
    "all_words_de = rdd_lines_de_low\\\n",
    "                                .flatMap(lambda w: w)\\\n",
    "                                .map(lambda l: (l,1))\n",
    "all_words_counts_de = all_words_de.reduceByKey(add)\n",
    "print(all_words_counts_de.takeOrdered(10, key=lambda x: -x[1]))"
   ]
  },
  {
   "cell_type": "markdown",
   "id": "22d87c32-ce89-4d57-8801-1e3c75651149",
   "metadata": {},
   "source": [
    "# A4"
   ]
  },
  {
   "cell_type": "code",
   "execution_count": 9,
   "id": "c11d8ab9-bbbd-4011-afa0-8eaec018cf86",
   "metadata": {},
   "outputs": [
    {
     "name": "stderr",
     "output_type": "stream",
     "text": [
      "[Stage 14:>                                                         (0 + 1) / 1]\r"
     ]
    },
    {
     "name": "stdout",
     "output_type": "stream",
     "text": [
      "[(0, ['resumption', 'of', 'the', 'session']), (1, ['i', 'declare', 'resumed', 'the', 'session', 'of', 'the', 'european', 'parliament', 'adjourned', 'on', 'friday', '17', 'december', '1999,', 'and', 'i', 'would', 'like', 'once', 'again', 'to', 'wish', 'you', 'a', 'happy', 'new', 'year', 'in', 'the', 'hope', 'that', 'you', 'enjoyed', 'a', 'pleasant', 'festive', 'period.']), (2, ['although,', 'as', 'you', 'will', 'have', 'seen,', 'the', 'dreaded', \"'millennium\", \"bug'\", 'failed', 'to', 'materialise,', 'still', 'the', 'people', 'in', 'a', 'number', 'of', 'countries', 'suffered', 'a', 'series', 'of', 'natural', 'disasters', 'that', 'truly', 'were', 'dreadful.'])]\n"
     ]
    },
    {
     "name": "stderr",
     "output_type": "stream",
     "text": [
      "\r",
      "                                                                                \r"
     ]
    }
   ],
   "source": [
    "#######  A4   #################################################################\n",
    "#1 key line ((1, [w1, w2, w3]), (2, [w1,w2,w3])...\n",
    "en_1  = rdd_lines_en_low.zipWithIndex()\n",
    "#[(['resumption', 'of', 'the', 'session'], 0),\n",
    "en_2 = en_1.map(lambda x: (x[1], x[0]))\n",
    "print(en_2.take(3))"
   ]
  },
  {
   "cell_type": "code",
   "execution_count": 10,
   "id": "781674e8-a945-45b7-8ce4-f9d61d24ded8",
   "metadata": {},
   "outputs": [
    {
     "name": "stderr",
     "output_type": "stream",
     "text": [
      "                                                                                \r"
     ]
    }
   ],
   "source": [
    "de_1  = rdd_lines_de_low.zipWithIndex()\n",
    "de_2 = de_1.map(lambda x: (x[1], x[0]))"
   ]
  },
  {
   "cell_type": "code",
   "execution_count": 11,
   "id": "82802434-75c3-43ea-ac29-e9e00835db50",
   "metadata": {},
   "outputs": [
    {
     "name": "stderr",
     "output_type": "stream",
     "text": [
      "                                                                                \r"
     ]
    },
    {
     "name": "stdout",
     "output_type": "stream",
     "text": [
      "[(0, ['resumption', 'of', 'the', 'session']), (1, ['i', 'declare', 'resumed', 'the', 'session', 'of', 'the', 'european', 'parliament', 'adjourned', 'on', 'friday', '17', 'december', '1999,', 'and', 'i', 'would', 'like', 'once', 'again', 'to', 'wish', 'you', 'a', 'happy', 'new', 'year', 'in', 'the', 'hope', 'that', 'you', 'enjoyed', 'a', 'pleasant', 'festive', 'period.'])]\n"
     ]
    },
    {
     "name": "stderr",
     "output_type": "stream",
     "text": [
      "                                                                                \r"
     ]
    },
    {
     "name": "stdout",
     "output_type": "stream",
     "text": [
      "[(0, ['wiederaufnahme', 'der', 'sitzungsperiode']), (1, ['ich', 'erkläre', 'die', 'am', 'freitag,', 'dem', '17.', 'dezember', 'unterbrochene', 'sitzungsperiode', 'des', 'europäischen', 'parlaments', 'für', 'wiederaufgenommen,', 'wünsche', 'ihnen', 'nochmals', 'alles', 'gute', 'zum', 'jahreswechsel', 'und', 'hoffe,', 'daß', 'sie', 'schöne', 'ferien', 'hatten.'])]\n"
     ]
    },
    {
     "name": "stderr",
     "output_type": "stream",
     "text": [
      "[Stage 19:>                                                         (0 + 1) / 1]\r"
     ]
    },
    {
     "name": "stdout",
     "output_type": "stream",
     "text": [
      "[(1571868, (['so', 'our', 'competitors', 'are', 'going', 'to', 'step', 'up', 'their', 'farming', 'activities', 'and', 'gain', 'market', 'shares.'], ['unsere', 'konkurrenten', 'stärken', 'also', 'ihre', 'unternehmen', 'und', 'erobern', 'neue', 'marktanteile.'])), (1572408, (['if', 'colleagues', 'do', 'not', 'leave', 'the', 'chamber,', 'what', 'status', 'do', 'the', 'rules', 'of', 'this', 'parliament', 'have', 'any', 'more?'], ['wenn', 'die', 'kollegen', 'den', 'plenarsaal', 'nicht', 'verlassen,', 'welchen', 'wert', 'haben', 'dann', 'noch', 'die', 'geschäftsordnungsbestimmungen', 'dieses', 'parlaments?'])), (1573572, (['recently,', 'articles', 'in', 'the', 'international', 'press', 'have', 'repeated', 'that', 'the', 'war', 'criminal', 'brunner', 'is', 'still', 'living,', 'and', 'is', 'in', 'hiding', 'in', 'syria.'], ['kürzlich', 'wurde', 'in', 'der', 'internationalen', 'presse', 'wiederholt', 'behauptet,', 'daß', 'der', 'kriegsverbrecher', 'brunner', 'am', 'leben', 'sei', 'und', 'sich', 'in', 'syrien', 'verstecke.'])), (1574178, (['the', 'vast', 'majority', 'of', 'them', 'are', 'believed', 'to', 'have', 'been', 'involved', 'in', 'entirely', 'peaceful', 'activities.'], ['die', 'überwiegende', 'mehrheit', 'dieser', 'menschen', 'soll', 'an', 'absolut', 'friedlichen', 'maßnahmen', 'beteiligt', 'gewesen', 'sein.'])), (1579506, (['i', 'want', 'to', 'mention', 'the', 'following', 'four', 'points:', 'firstly,', 'the', \"commission's\", 'approach', 'involves', 'the', 'clarification', 'of', 'the', 'application', 'of', 'the', 'existing', 'structural', 'fund', 'regulations', 'using', 'existing', 'legal', 'powers;', 'secondly,', 'it', 'is', 'not', 'seeking', 'to', 'impose', 'new', 'administrative', 'structures', 'on', 'the', 'member', 'states.'], ['zweitens', 'versucht', 'er', 'nicht', ',', 'den', 'mitgliedstaaten', 'neue', 'verwaltungsstrukturen', 'aufzuerlegen.', 'die', 'absicht', 'liegt', 'eher', 'darin,', 'angemessene', 'mindestkontrollstandards', 'einzuführen,', 'die', 'einheitlich', 'in', 'der', 'gesamten', 'union', 'angewendet', 'werden', 'sollten.']))]\n"
     ]
    },
    {
     "name": "stderr",
     "output_type": "stream",
     "text": [
      "\r",
      "                                                                                \r"
     ]
    }
   ],
   "source": [
    "#4.3 Join RDDs\n",
    "print(en_2.take(2))\n",
    "print(de_2.take(2))\n",
    "join_3 = en_2.join(de_2)\n",
    "print(join_3.take(5))"
   ]
  },
  {
   "cell_type": "code",
   "execution_count": 12,
   "id": "5a9573aa-a1c0-4ff6-afd2-452e21934d45",
   "metadata": {},
   "outputs": [
    {
     "name": "stderr",
     "output_type": "stream",
     "text": [
      "\r",
      "[Stage 21:>                                                         (0 + 1) / 1]\r"
     ]
    },
    {
     "name": "stdout",
     "output_type": "stream",
     "text": [
      "[(958866, (['i', 'should', 'like', 'to', 'thank', 'commissioner', 'kuneva', 'for', 'waiting.'], ['ich', 'möchte', 'kommissarin', 'kuneva', 'danken,', 'dass', 'sie', 'gewartet', 'hat.'])), (1047012, (['all', 'the', 'conventions', 'mentioned', 'in', 'the', 'report', 'are', 'relevant.'], ['sämtliche', 'der', 'im', 'bericht', 'genannten', 'übereinkommen', 'sind', 'hierfür', 'relevant.'])), (1072326, (['it', 'is', 'reciprocal.'], ['er', 'ist', 'wechselseitig.'])), (1079508, (['here', 'and', 'now.'], ['hier', 'und', 'jetzt.'])), (1102566, (['we', 'have', 'supported', 'this', 'report', 'today', 'on', 'that', 'basis.'], ['wir', 'haben', 'auf', 'dieser', 'grundlage', 'für', 'diesen', 'bericht', 'gestimmt.']))]\n"
     ]
    },
    {
     "name": "stderr",
     "output_type": "stream",
     "text": [
      "\r",
      "                                                                                \r"
     ]
    }
   ],
   "source": [
    "## A4.4 Exclude\n",
    "# Exclude missing corresponding sentences\n",
    "en_4 = join_3 \\\n",
    "    .filter(lambda x: len(x[1][0]) != 0) \\\n",
    "    .filter(lambda x: len(x[1][1]) != 0) \\\n",
    "    .filter(lambda x: len(x[1][0]) < 10) \\\n",
    "    .filter(lambda x: len(x[1][1]) == len(x[1][0])) \n",
    "         \n",
    "print(en_4.take(5))"
   ]
  },
  {
   "cell_type": "code",
   "execution_count": 13,
   "id": "662cbf31-c83a-4636-a98c-7accd87e0c02",
   "metadata": {},
   "outputs": [
    {
     "name": "stderr",
     "output_type": "stream",
     "text": [
      "\r",
      "[Stage 23:>                                                         (0 + 1) / 1]\r"
     ]
    },
    {
     "name": "stdout",
     "output_type": "stream",
     "text": [
      "[('i', 'ich'), ('should', 'möchte'), ('like', 'kommissarin'), ('to', 'kuneva')]\n"
     ]
    },
    {
     "name": "stderr",
     "output_type": "stream",
     "text": [
      "\r",
      "                                                                                \r"
     ]
    }
   ],
   "source": [
    "## A4.7\n",
    "en_7 = en_4.flatMap(lambda x: tuple(zip(x[1][0], x[1][1])))\n",
    "print(en_7.take(4))"
   ]
  },
  {
   "cell_type": "code",
   "execution_count": 14,
   "id": "2ca89660-03c2-452d-9a08-9a954e469da7",
   "metadata": {},
   "outputs": [],
   "source": [
    "en_8 = en_7 \\\n",
    "    .map(lambda x: (x,1)) \\\n",
    "    .reduceByKey(add)\n"
   ]
  },
  {
   "cell_type": "code",
   "execution_count": 15,
   "id": "dde27a8a-965c-4ce1-9172-ecb8af351809",
   "metadata": {},
   "outputs": [
    {
     "name": "stderr",
     "output_type": "stream",
     "text": [
      "[Stage 25:================================================>         (5 + 1) / 6]\r"
     ]
    },
    {
     "name": "stdout",
     "output_type": "stream",
     "text": [
      "[(('is', 'ist'), 11734), (('the', 'die'), 9815), (('debate', 'aussprache'), 4578), (('we', 'wir'), 4412), (('i', 'ich'), 4391), (('closed.', 'geschlossen.'), 4329), (('the', 'der'), 3085), (('that', 'das'), 2802), (('(applause)', '(beifall)'), 2746), (('.', '.'), 2644), (('and', 'und'), 2490), (('this', 'das'), 1894), (('mr', 'herr'), 1846), (('not', 'nicht'), 1703), (('thank', 'vielen'), 1593), (('a', 'eine'), 1454), (('are', 'sind'), 1449), (('a', 'ein'), 1440), (('by', 'von'), 1434), (('no', 'nr.'), 1407)]\n"
     ]
    },
    {
     "name": "stderr",
     "output_type": "stream",
     "text": [
      "\r",
      "                                                                                \r"
     ]
    }
   ],
   "source": [
    "print(en_8.takeOrdered(20, key=lambda x: -x[1]))"
   ]
  },
  {
   "cell_type": "markdown",
   "id": "0dd81b70-13e3-47f4-bb6a-d3070107107b",
   "metadata": {},
   "source": [
    "The most frequent translation ist ((is, ist), 11734), which is the right translation. Also all other translation seem very accurate."
   ]
  },
  {
   "cell_type": "code",
   "execution_count": 16,
   "id": "11192ea1-4ad2-40a6-b8c8-f94f3ab8be78",
   "metadata": {},
   "outputs": [],
   "source": [
    "### release the cores for another application!\n",
    "spark_context.stop()"
   ]
  }
 ],
 "metadata": {
  "kernelspec": {
   "display_name": "Python 3 (ipykernel)",
   "language": "python",
   "name": "python3"
  },
  "language_info": {
   "codemirror_mode": {
    "name": "ipython",
    "version": 3
   },
   "file_extension": ".py",
   "mimetype": "text/x-python",
   "name": "python",
   "nbconvert_exporter": "python",
   "pygments_lexer": "ipython3",
   "version": "3.10.6"
  }
 },
 "nbformat": 4,
 "nbformat_minor": 5
}
