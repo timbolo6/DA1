{
 "cells": [
  {
   "cell_type": "markdown",
   "id": "509a9d14-692a-44ad-b4b7-2354a82012e0",
   "metadata": {},
   "source": [
    "# Configuration of Spark Session to Spark Cluster"
   ]
  },
  {
   "cell_type": "code",
   "execution_count": 1,
   "id": "9c5ba0b0-95f0-421d-beda-e84e7c269c7d",
   "metadata": {},
   "outputs": [
    {
     "name": "stderr",
     "output_type": "stream",
     "text": [
      "Using Spark's default log4j profile: org/apache/spark/log4j-defaults.properties\n",
      "Setting default log level to \"WARN\".\n",
      "To adjust logging level use sc.setLogLevel(newLevel). For SparkR, use setLogLevel(newLevel).\n",
      "22/02/21 11:15:49 WARN NativeCodeLoader: Unable to load native-hadoop library for your platform... using builtin-java classes where applicable\n",
      "22/02/21 11:15:51 WARN ExecutorAllocationManager: Dynamic allocation without a shuffle service is an experimental feature.\n"
     ]
    }
   ],
   "source": [
    "from pyspark.sql import SparkSession\n",
    "from operator import add\n",
    "spark_session = SparkSession\\\n",
    "        .builder\\\n",
    "        .master(\"spark://192.168.2.119:7077\") \\\n",
    "        .appName(\"tim-wywiol-intro\")\\\n",
    "        .config(\"spark.dynamicAllocation.enabled\", True)\\\n",
    "        .config(\"spark.dynamicAllocation.shuffleTracking.enabled\",True)\\\n",
    "        .config(\"spark.shuffle.service.enabled\", False)\\\n",
    "        .config(\"spark.dynamicAllocation.executorIdleTimeout\",\"30s\")\\\n",
    "        .config(\"spark.executor.cores\",2)\\\n",
    "        .config(\"spark.driver.port\",9998)\\\n",
    "        .config(\"spark.blockManager.port\",10005)\\\n",
    "        .getOrCreate()\n",
    "# Old API (RDD)\n",
    "spark_context = spark_session.sparkContext\n",
    "\n",
    "spark_context.setLogLevel(\"ERROR\")"
   ]
  },
  {
   "cell_type": "markdown",
   "id": "d1090dc2-c89e-45da-9c1f-d97006105177",
   "metadata": {
    "tags": []
   },
   "source": [
    "# Loading Data in SPARK RDD from HDFS"
   ]
  },
  {
   "cell_type": "code",
   "execution_count": 2,
   "id": "edf5e8d5-f2a7-41a6-b057-8db66ff5ae8c",
   "metadata": {},
   "outputs": [],
   "source": [
    "rdd_lines_en = spark_context.textFile(\"hdfs://192.168.2.119:9000/europarl/europarl-v7.de-en.en\")\n",
    "rdd_lines_de = spark_context.textFile(\"hdfs://192.168.2.119:9000/europarl/europarl-v7.de-en.de\")\n"
   ]
  },
  {
   "cell_type": "markdown",
   "id": "8d3732b9-a5c0-4ae6-92bb-d6b9ab992e94",
   "metadata": {},
   "source": [
    "# A1 "
   ]
  },
  {
   "cell_type": "code",
   "execution_count": 3,
   "id": "df534d78-5f92-46b4-9a0c-eb70d4406291",
   "metadata": {},
   "outputs": [
    {
     "name": "stderr",
     "output_type": "stream",
     "text": [
      "                                                                                \r"
     ]
    },
    {
     "name": "stdout",
     "output_type": "stream",
     "text": [
      "Resumption of the session\n",
      "3\n"
     ]
    },
    {
     "name": "stderr",
     "output_type": "stream",
     "text": [
      "                                                                                \r"
     ]
    },
    {
     "name": "stdout",
     "output_type": "stream",
     "text": [
      "1920209\n",
      "Wiederaufnahme der Sitzungsperiode\n",
      "3\n"
     ]
    },
    {
     "name": "stderr",
     "output_type": "stream",
     "text": [
      "[Stage 3:=======================================>                   (2 + 1) / 3]\r"
     ]
    },
    {
     "name": "stdout",
     "output_type": "stream",
     "text": [
      "1920209\n"
     ]
    },
    {
     "name": "stderr",
     "output_type": "stream",
     "text": [
      "                                                                                \r"
     ]
    }
   ],
   "source": [
    "## A1 \n",
    "## Count lines\n",
    "print(rdd_lines_en.first())\n",
    "print(rdd_lines_en.getNumPartitions())\n",
    "print(rdd_lines_en.count())\n",
    "print(rdd_lines_de.first())\n",
    "print(rdd_lines_de.getNumPartitions())\n",
    "print(rdd_lines_de.count())"
   ]
  },
  {
   "cell_type": "markdown",
   "id": "537d0583-6138-4f62-af8f-25f1d6410374",
   "metadata": {},
   "source": [
    "# A2"
   ]
  },
  {
   "cell_type": "code",
   "execution_count": 4,
   "id": "b3669335-0ee7-49a9-b2e5-be06f8cc5deb",
   "metadata": {},
   "outputs": [],
   "source": [
    "## A2\n",
    "#LowerCase RDD Text\n",
    "def TokLow(line):\n",
    "    new_line = line.lower()\n",
    "    return new_line.split()\n",
    "rdd_lines_en_low = rdd_lines_en.map(lambda x: TokLow(x))\n",
    "rdd_lines_de_low = rdd_lines_de.map(lambda x: TokLow(x))"
   ]
  },
  {
   "cell_type": "code",
   "execution_count": 5,
   "id": "ebc8d222-7b37-4f53-b559-82f84f9dc93a",
   "metadata": {},
   "outputs": [
    {
     "name": "stdout",
     "output_type": "stream",
     "text": [
      "[['resumption', 'of', 'the', 'session'], ['i', 'declare', 'resumed', 'the', 'session', 'of', 'the', 'european', 'parliament', 'adjourned', 'on', 'friday', '17', 'december', '1999,', 'and', 'i', 'would', 'like', 'once', 'again', 'to', 'wish', 'you', 'a', 'happy', 'new', 'year', 'in', 'the', 'hope', 'that', 'you', 'enjoyed', 'a', 'pleasant', 'festive', 'period.']]\n"
     ]
    },
    {
     "name": "stderr",
     "output_type": "stream",
     "text": [
      "                                                                                \r"
     ]
    },
    {
     "name": "stdout",
     "output_type": "stream",
     "text": [
      "1920209\n",
      "[['wiederaufnahme', 'der', 'sitzungsperiode'], ['ich', 'erkläre', 'die', 'am', 'freitag,', 'dem', '17.', 'dezember', 'unterbrochene', 'sitzungsperiode', 'des', 'europäischen', 'parlaments', 'für', 'wiederaufgenommen,', 'wünsche', 'ihnen', 'nochmals', 'alles', 'gute', 'zum', 'jahreswechsel', 'und', 'hoffe,', 'daß', 'sie', 'schöne', 'ferien', 'hatten.']]\n"
     ]
    },
    {
     "name": "stderr",
     "output_type": "stream",
     "text": [
      "[Stage 7:=======================================>                   (2 + 1) / 3]\r"
     ]
    },
    {
     "name": "stdout",
     "output_type": "stream",
     "text": [
      "1920209\n"
     ]
    },
    {
     "name": "stderr",
     "output_type": "stream",
     "text": [
      "                                                                                \r"
     ]
    }
   ],
   "source": [
    "print(rdd_lines_en_low.take(2))\n",
    "print(rdd_lines_en_low.count())\n",
    "print(rdd_lines_de_low.take(2))\n",
    "print(rdd_lines_de_low.count())"
   ]
  },
  {
   "cell_type": "markdown",
   "id": "47397402-9144-478b-8286-b78928cf7cb0",
   "metadata": {},
   "source": [
    "# A3"
   ]
  },
  {
   "cell_type": "code",
   "execution_count": 6,
   "id": "6826a46a-e92b-4bee-bc89-fdeabe75cb89",
   "metadata": {},
   "outputs": [
    {
     "name": "stdout",
     "output_type": "stream",
     "text": [
      "[('resumption', 1), ('of', 1), ('the', 1), ('session', 1), ('i', 1), ('declare', 1), ('resumed', 1), ('the', 1), ('session', 1), ('of', 1), ('the', 1), ('european', 1), ('parliament', 1), ('adjourned', 1), ('on', 1), ('friday', 1), ('17', 1), ('december', 1), ('1999,', 1), ('and', 1)]\n"
     ]
    }
   ],
   "source": [
    "## A3\n",
    "# Count 10 most frequent words\n",
    "# Map\n",
    "all_words_en = rdd_lines_en_low\\\n",
    "                                .flatMap(lambda w: w)\\\n",
    "                                .map(lambda l: (l,1))\n",
    "print(all_words_en.take(20))\n"
   ]
  },
  {
   "cell_type": "code",
   "execution_count": 7,
   "id": "8c86ddfc-221d-464e-9635-8381a9fb2fa9",
   "metadata": {},
   "outputs": [
    {
     "name": "stderr",
     "output_type": "stream",
     "text": [
      "[Stage 9:=======================================>                   (2 + 1) / 3]\r"
     ]
    },
    {
     "name": "stdout",
     "output_type": "stream",
     "text": [
      "[('the', 3663317), ('of', 1737096), ('to', 1611846), ('and', 1345289), ('in', 1134117), ('that', 835926), ('a', 810820), ('is', 792599), ('for', 557377), ('we', 551272)]\n"
     ]
    },
    {
     "name": "stderr",
     "output_type": "stream",
     "text": [
      "                                                                                \r"
     ]
    }
   ],
   "source": [
    "all_words_counts_en = all_words_en.reduceByKey(add)\n",
    "print(all_words_counts_en.takeOrdered(10, key=lambda x: -x[1]))"
   ]
  },
  {
   "cell_type": "code",
   "execution_count": 8,
   "id": "d24bfc6e-9fb9-4841-8b80-ac0cf26c8e64",
   "metadata": {},
   "outputs": [
    {
     "name": "stderr",
     "output_type": "stream",
     "text": [
      "[Stage 11:======================================>                   (2 + 1) / 3]\r"
     ]
    },
    {
     "name": "stdout",
     "output_type": "stream",
     "text": [
      "[('die', 1980588), ('der', 1710400), ('und', 1338008), ('in', 781398), ('zu', 618887), ('den', 577690), ('wir', 489054), ('für', 478353), ('ich', 469069), ('das', 466167)]\n"
     ]
    },
    {
     "name": "stderr",
     "output_type": "stream",
     "text": [
      "                                                                                \r"
     ]
    }
   ],
   "source": [
    "## A3 Deutsch\n",
    "all_words_de = rdd_lines_de_low\\\n",
    "                                .flatMap(lambda w: w)\\\n",
    "                                .map(lambda l: (l,1))\n",
    "all_words_counts_de = all_words_de.reduceByKey(add)\n",
    "print(all_words_counts_de.takeOrdered(10, key=lambda x: -x[1]))"
   ]
  },
  {
   "cell_type": "markdown",
   "id": "22d87c32-ce89-4d57-8801-1e3c75651149",
   "metadata": {},
   "source": [
    "# A4"
   ]
  },
  {
   "cell_type": "code",
   "execution_count": 9,
   "id": "c11d8ab9-bbbd-4011-afa0-8eaec018cf86",
   "metadata": {},
   "outputs": [
    {
     "name": "stderr",
     "output_type": "stream",
     "text": [
      "[Stage 13:======================================>                   (2 + 1) / 3]\r"
     ]
    },
    {
     "name": "stdout",
     "output_type": "stream",
     "text": [
      "[(0, ['resumption', 'of', 'the', 'session']), (1, ['i', 'declare', 'resumed', 'the', 'session', 'of', 'the', 'european', 'parliament', 'adjourned', 'on', 'friday', '17', 'december', '1999,', 'and', 'i', 'would', 'like', 'once', 'again', 'to', 'wish', 'you', 'a', 'happy', 'new', 'year', 'in', 'the', 'hope', 'that', 'you', 'enjoyed', 'a', 'pleasant', 'festive', 'period.']), (2, ['although,', 'as', 'you', 'will', 'have', 'seen,', 'the', 'dreaded', \"'millennium\", \"bug'\", 'failed', 'to', 'materialise,', 'still', 'the', 'people', 'in', 'a', 'number', 'of', 'countries', 'suffered', 'a', 'series', 'of', 'natural', 'disasters', 'that', 'truly', 'were', 'dreadful.'])]\n"
     ]
    },
    {
     "name": "stderr",
     "output_type": "stream",
     "text": [
      "                                                                                \r"
     ]
    }
   ],
   "source": [
    "#######  A4   #################################################################\n",
    "#1 key line ((1, [w1, w2, w3]), (2, [w1,w2,w3])...\n",
    "en_1  = rdd_lines_en_low.zipWithIndex()\n",
    "#[(['resumption', 'of', 'the', 'session'], 0),\n",
    "en_2 = en_1.map(lambda x: (x[1], x[0]))\n",
    "print(en_2.take(3))"
   ]
  },
  {
   "cell_type": "code",
   "execution_count": 10,
   "id": "781674e8-a945-45b7-8ce4-f9d61d24ded8",
   "metadata": {},
   "outputs": [
    {
     "name": "stderr",
     "output_type": "stream",
     "text": [
      "                                                                                \r"
     ]
    }
   ],
   "source": [
    "de_1  = rdd_lines_de_low.zipWithIndex()\n",
    "de_2 = de_1.map(lambda x: (x[1], x[0]))"
   ]
  },
  {
   "cell_type": "code",
   "execution_count": 11,
   "id": "82802434-75c3-43ea-ac29-e9e00835db50",
   "metadata": {},
   "outputs": [
    {
     "name": "stdout",
     "output_type": "stream",
     "text": [
      "[(0, ['resumption', 'of', 'the', 'session']), (1, ['i', 'declare', 'resumed', 'the', 'session', 'of', 'the', 'european', 'parliament', 'adjourned', 'on', 'friday', '17', 'december', '1999,', 'and', 'i', 'would', 'like', 'once', 'again', 'to', 'wish', 'you', 'a', 'happy', 'new', 'year', 'in', 'the', 'hope', 'that', 'you', 'enjoyed', 'a', 'pleasant', 'festive', 'period.'])]\n",
      "[(0, ['wiederaufnahme', 'der', 'sitzungsperiode']), (1, ['ich', 'erkläre', 'die', 'am', 'freitag,', 'dem', '17.', 'dezember', 'unterbrochene', 'sitzungsperiode', 'des', 'europäischen', 'parlaments', 'für', 'wiederaufgenommen,', 'wünsche', 'ihnen', 'nochmals', 'alles', 'gute', 'zum', 'jahreswechsel', 'und', 'hoffe,', 'daß', 'sie', 'schöne', 'ferien', 'hatten.'])]\n"
     ]
    },
    {
     "name": "stderr",
     "output_type": "stream",
     "text": [
      "[Stage 19:>                                                         (0 + 1) / 1]\r"
     ]
    },
    {
     "name": "stdout",
     "output_type": "stream",
     "text": [
      "[(11310, (['the', 'operation', 'of', 'the', 'community', 'support', 'framework', 'is', 'ruled', 'by', 'a', 'centralising', 'hand', 'and', 'indeed', 'at', 'this', 'time', 'we', 'are', 'experiencing', 'state,', 'government', 'and', 'party', 'delirium', 'as', 'regards', 'the', 'european', \"union'\", 's', 'funding.'], ['das', 'gemeinschaftliche', 'förderkonzept,', 'so', 'wie', 'es', 'derzeit', 'funktioniert,', 'wird', 'von', 'zentralistischer', 'hand', 'dirigiert,', 'und', 'momentan', 'erleben', 'wir', 'im', 'hinblick', 'auf', 'die', 'beihilfen', 'der', 'europäischen', 'union,', 'daß', 'staat,', 'regierung', 'und', 'partei', 'vollkommen', 'durchdrehen.'])), (17952, (['the', 'very', 'political', 'essence', 'of', 'the', 'reform', 'is', 'mirrored', 'in', 'the', 'objectives', 'of', 'this', 'five-year', 'plan.'], ['in', 'diesen', 'zielsetzungen', 'des', 'fünfjahresprogramms', 'liegen', 'die', 'tieferen', 'politischen', 'gründe', 'für', 'die', 'reform.'])), (19722, (['mr', 'president,', 'as', 'a', 'member', 'of', 'the', 'verts/ale', 'group,', 'but', 'also', 'as', 'a', 'member', 'of', 'this', 'parliament', 'for', 'galicia,', 'i', 'propose', 'to', 'use', 'this', 'intervention', 'to', 'enlarge', 'upon', 'two', 'issues.', 'i', 'shall,', 'of', 'course,', 'be', 'brief.'], ['als', 'mitglied', 'der', 'fraktion', 'der', 'grünen/freie', 'europäische', 'allianz,', 'aber', 'auch', 'als', 'abgeordneter', 'für', 'galicien', 'möchte', 'ich', 'in', 'diesem', 'beitrag', 'zwei', 'zwangsläufig', 'kurze', 'bemerkungen', 'vorbringen.'])), (58788, (['people', 'must', 'know', 'that', 'it', 'is', 'not', 'just', 'lung', 'cancer', 'but', 'other', 'lung', 'diseases', 'and', 'other', 'diseases', 'as', 'well.'], ['die', 'menschen', 'müssen', 'erfahren,', 'daß', 'es', 'nicht', 'nur', 'um', 'lungenkrebs,', 'sondern', 'auch', 'um', 'andere', 'krankheiten', 'geht.'])), (101142, (['this', 'signal', 'could', 'be', 'misinterpreted', 'or', 'even', 'turned', 'against', 'us', 'to', 'score', 'political', 'points.'], ['dieses', 'signal', 'kann', 'missverstanden', 'oder', 'gar', 'für', 'polemik', 'gegen', 'uns', 'missbraucht', 'werden.']))]\n"
     ]
    },
    {
     "name": "stderr",
     "output_type": "stream",
     "text": [
      "                                                                                \r"
     ]
    }
   ],
   "source": [
    "#4.3 Join RDDs\n",
    "print(en_2.take(2))\n",
    "print(de_2.take(2))\n",
    "join_3 = en_2.join(de_2)\n",
    "print(join_3.take(5))"
   ]
  },
  {
   "cell_type": "code",
   "execution_count": 12,
   "id": "5a9573aa-a1c0-4ff6-afd2-452e21934d45",
   "metadata": {},
   "outputs": [
    {
     "name": "stderr",
     "output_type": "stream",
     "text": [
      "[Stage 21:>                                                         (0 + 1) / 1]\r"
     ]
    },
    {
     "name": "stdout",
     "output_type": "stream",
     "text": [
      "[(107106, (['it', 'must', 'also', 'be', 'broadened.'], ['es', 'muss', 'auch', 'verbreitert', 'werden.'])), (244854, (['this', 'is', 'not', 'a', 'short-term', 'project.'], ['diese', 'unterstützung', 'ist', 'kein', 'kurzfristiges', 'projekt.'])), (500196, (['the', 'olaf', 'report', 'painted', 'a', 'quite', 'different', 'picture.'], ['der', 'olaf-bericht', 'stellte', 'die', 'situation', 'völlig', 'anders', 'dar.'])), (661002, (['.'], ['.'])), (63978, (['then', 'there', 'was', 'the', 'tampere', 'summit.'], ['dann', 'folgte', 'der', 'gipfel', 'von', 'tampere.']))]\n"
     ]
    },
    {
     "name": "stderr",
     "output_type": "stream",
     "text": [
      "                                                                                \r"
     ]
    }
   ],
   "source": [
    "## A4.4 Exclude\n",
    "# Exclude missing corresponding sentences\n",
    "en_4 = join_3 \\\n",
    "    .filter(lambda x: len(x[1][0]) != 0) \\\n",
    "    .filter(lambda x: len(x[1][1]) != 0) \\\n",
    "    .filter(lambda x: len(x[1][0]) < 10) \\\n",
    "    .filter(lambda x: len(x[1][1]) == len(x[1][0])) \n",
    "         \n",
    "print(en_4.take(5))"
   ]
  },
  {
   "cell_type": "code",
   "execution_count": 13,
   "id": "662cbf31-c83a-4636-a98c-7accd87e0c02",
   "metadata": {},
   "outputs": [
    {
     "name": "stderr",
     "output_type": "stream",
     "text": [
      "[Stage 23:>                                                         (0 + 1) / 1]\r"
     ]
    },
    {
     "name": "stdout",
     "output_type": "stream",
     "text": [
      "[('(applause)', '(beifall)'), ('because,', 'wenn'), ('if', 'nicht,'), ('not,', 'müsste')]\n"
     ]
    },
    {
     "name": "stderr",
     "output_type": "stream",
     "text": [
      "                                                                                \r"
     ]
    }
   ],
   "source": [
    "## A4.7\n",
    "en_7 = en_4.flatMap(lambda x: tuple(zip(x[1][0], x[1][1])))\n",
    "print(en_7.take(4))"
   ]
  },
  {
   "cell_type": "code",
   "execution_count": 14,
   "id": "2ca89660-03c2-452d-9a08-9a954e469da7",
   "metadata": {},
   "outputs": [],
   "source": [
    "en_8 = en_7 \\\n",
    "    .map(lambda x: (x,1)) \\\n",
    "    .reduceByKey(add)\n"
   ]
  },
  {
   "cell_type": "code",
   "execution_count": 15,
   "id": "dde27a8a-965c-4ce1-9172-ecb8af351809",
   "metadata": {},
   "outputs": [
    {
     "name": "stderr",
     "output_type": "stream",
     "text": [
      "[Stage 25:================================================>         (5 + 1) / 6]\r"
     ]
    },
    {
     "name": "stdout",
     "output_type": "stream",
     "text": [
      "[(('is', 'ist'), 11734), (('the', 'die'), 9815), (('debate', 'aussprache'), 4578), (('we', 'wir'), 4412), (('i', 'ich'), 4391), (('closed.', 'geschlossen.'), 4329), (('the', 'der'), 3085), (('that', 'das'), 2802), (('(applause)', '(beifall)'), 2746), (('.', '.'), 2644), (('and', 'und'), 2490), (('this', 'das'), 1894), (('mr', 'herr'), 1846), (('not', 'nicht'), 1703), (('thank', 'vielen'), 1593), (('a', 'eine'), 1454), (('are', 'sind'), 1449), (('a', 'ein'), 1440), (('by', 'von'), 1434), (('no', 'nr.'), 1407)]\n"
     ]
    },
    {
     "name": "stderr",
     "output_type": "stream",
     "text": [
      "                                                                                \r"
     ]
    }
   ],
   "source": [
    "print(en_8.takeOrdered(20, key=lambda x: -x[1]))"
   ]
  },
  {
   "cell_type": "markdown",
   "id": "6a79cc2f-0c24-4259-a061-787c9468ab8f",
   "metadata": {},
   "source": [
    "### release the cores for another application!\n",
    "spark_context.stop()"
   ]
  }
 ],
 "metadata": {
  "kernelspec": {
   "display_name": "Python 3 (ipykernel)",
   "language": "python",
   "name": "python3"
  },
  "language_info": {
   "codemirror_mode": {
    "name": "ipython",
    "version": 3
   },
   "file_extension": ".py",
   "mimetype": "text/x-python",
   "name": "python",
   "nbconvert_exporter": "python",
   "pygments_lexer": "ipython3",
   "version": "3.8.10"
  }
 },
 "nbformat": 4,
 "nbformat_minor": 5
}
