{
 "cells": [
  {
   "cell_type": "markdown",
   "id": "4cd0c771-fe41-4e23-bb0c-797df15e6c64",
   "metadata": {},
   "source": [
    "# Configuration of Spark Session to Spark Cluster"
   ]
  },
  {
   "cell_type": "code",
   "execution_count": 1,
   "id": "59d61ccb-6c44-43b4-ad53-51f1ed4956bd",
   "metadata": {},
   "outputs": [
    {
     "name": "stderr",
     "output_type": "stream",
     "text": [
      "Using Spark's default log4j profile: org/apache/spark/log4j-defaults.properties\n",
      "Setting default log level to \"WARN\".\n",
      "To adjust logging level use sc.setLogLevel(newLevel). For SparkR, use setLogLevel(newLevel).\n",
      "22/02/25 11:27:09 WARN NativeCodeLoader: Unable to load native-hadoop library for your platform... using builtin-java classes where applicable\n",
      "22/02/25 11:27:11 WARN ExecutorAllocationManager: Dynamic allocation without a shuffle service is an experimental feature.\n"
     ]
    }
   ],
   "source": [
    "from pyspark.sql import SparkSession\n",
    "from operator import add\n",
    "spark_session = SparkSession\\\n",
    "        .builder\\\n",
    "        .master(\"spark://192.168.2.119:7077\") \\\n",
    "        .appName(\"tim-wywiol-A3\")\\\n",
    "        .config(\"spark.dynamicAllocation.enabled\", True)\\\n",
    "        .config(\"spark.dynamicAllocation.shuffleTracking.enabled\",True)\\\n",
    "        .config(\"spark.shuffle.service.enabled\", False)\\\n",
    "        .config(\"spark.dynamicAllocation.executorIdleTimeout\",\"30s\")\\\n",
    "        .config(\"spark.executor.cores\",4)\\\n",
    "        .config(\"spark.driver.port\",9998)\\\n",
    "        .config(\"spark.blockManager.port\",10005)\\\n",
    "        .config(\"spark.cores.max\", 4)\\\n",
    "        .getOrCreate()\n",
    "# Old API (RDD)\n",
    "spark_context = spark_session.sparkContext\n",
    "\n",
    "spark_context.setLogLevel(\"ERROR\")"
   ]
  },
  {
   "cell_type": "markdown",
   "id": "eab2cb3f-f746-4238-803d-4b64c729adda",
   "metadata": {},
   "source": [
    "# Loading Data in SPARK RDD from HDFS"
   ]
  },
  {
   "cell_type": "code",
   "execution_count": 2,
   "id": "2927f0e0-20d5-452f-98fa-06dd75e877f6",
   "metadata": {},
   "outputs": [
    {
     "name": "stderr",
     "output_type": "stream",
     "text": [
      "                                                                                \r"
     ]
    }
   ],
   "source": [
    "data_frame = spark_session.read\\\n",
    "    .option(\"header\", \"true\")\\\n",
    "    .csv('hdfs://192.168.2.119:9000/parking-citations.csv')\\\n",
    "    .cache()"
   ]
  },
  {
   "cell_type": "markdown",
   "id": "b5b2c584-4ed3-4867-8c29-eb9f58ed7941",
   "metadata": {},
   "source": [
    "# B1"
   ]
  },
  {
   "cell_type": "code",
   "execution_count": 3,
   "id": "1baa5456-c80d-412e-9f93-675ae4919910",
   "metadata": {},
   "outputs": [
    {
     "name": "stderr",
     "output_type": "stream",
     "text": [
      "[Stage 1:>                                                          (0 + 1) / 1]\r"
     ]
    },
    {
     "name": "stdout",
     "output_type": "stream",
     "text": [
      "+-------------+--------------------+----------+--------+-----------+--------------+-----------------+----+----+----------+-----+--------------------+-----+------+--------------+---------------------+-----------+---------+---------+------------------+-----------------+----------------------+\n",
      "|Ticket number|          Issue Date|Issue time|Meter Id|Marked Time|RP State Plate|Plate Expiry Date| VIN|Make|Body Style|Color|            Location|Route|Agency|Violation code|Violation Description|Fine amount| Latitude|Longitude|Agency Description|Color Description|Body Style Description|\n",
      "+-------------+--------------------+----------+--------+-----------+--------------+-----------------+----+----+----------+-----+--------------------+-----+------+--------------+---------------------+-----------+---------+---------+------------------+-----------------+----------------------+\n",
      "|   1103341116|2015-12-21T00:00:...|      1251|    null|       null|            CA|           200304|null|HOND|        PA|   GY|     13147 WELBY WAY|01521|     1|        4000A1|   NO EVIDENCE OF REG|         50|    99999|    99999|              null|             null|                  null|\n",
      "|   1103700150|2015-12-21T00:00:...|      1435|    null|       null|            CA|           201512|null| GMC|        VN|   WH|       525 S MAIN ST| 1C51|     1|        4000A1|   NO EVIDENCE OF REG|         50|    99999|    99999|              null|             null|                  null|\n",
      "|   1104803000|2015-12-21T00:00:...|      2055|    null|       null|            CA|           201503|null|NISS|        PA|   BK|       200 WORLD WAY|  2R2|     2|          8939|           WHITE CURB|         58|6439997.9|1802686.4|              null|             null|                  null|\n",
      "|   1104820732|2015-12-26T00:00:...|      1515|    null|       null|            CA|             null|null|ACUR|        PA|   WH|       100 WORLD WAY| 2F11|     2|           000|               17104h|       null|6440041.1|1802686.2|              null|             null|                  null|\n",
      "|   1105461453|2015-09-15T00:00:...|       115|    null|       null|            CA|           200316|null|CHEV|        PA|   BK|  GEORGIA ST/OLYMPIC|1FB70|     1|         8069A| NO STOPPING/STANDING|         93|    99999|    99999|              null|             null|                  null|\n",
      "|   1106226590|2015-09-15T00:00:...|        19|    null|       null|            CA|           201507|null|CHEV|        VN|   GY|  SAN PEDRO S/O BOYD|1A35W|     1|        4000A1|   NO EVIDENCE OF REG|         50|    99999|    99999|              null|             null|                  null|\n",
      "|   1106500452|2015-12-17T00:00:...|      1710|    null|       null|            CA|           201605|null|MAZD|        PA|   BL|     SUNSET/ALVARADO|00217|     1|          8070| PARK IN GRID LOCK ZN|        163|    99999|    99999|              null|             null|                  null|\n",
      "|   1106500463|2015-12-17T00:00:...|      1710|    null|       null|            CA|           201602|null|TOYO|        PA|   BK|     SUNSET/ALVARADO|00217|     1|          8070| PARK IN GRID LOCK ZN|        163|    99999|    99999|              null|             null|                  null|\n",
      "|   1106506402|2015-12-22T00:00:...|       945|    null|       null|            CA|           201605|null|CHEV|        PA|   BR|      721 S WESTLAKE| 2A75|     1|        8069AA|     NO STOP/STAND AM|         93|    99999|    99999|              null|             null|                  null|\n",
      "|   1106506413|2015-12-22T00:00:...|      1100|    null|       null|            CA|           201701|null|NISS|        PA|   SI|     1159 HUNTLEY DR| 2A75|     1|        8069AA|     NO STOP/STAND AM|         93|    99999|    99999|              null|             null|                  null|\n",
      "|   1106506424|2015-12-22T00:00:...|      1100|    null|       null|            CA|           201511|null|FORD|        TR|   WH|     1159 HUNTLEY DR| 2A75|     1|        8069AA|     NO STOP/STAND AM|         93|    99999|    99999|              null|             null|                  null|\n",
      "|   1106506435|2015-12-22T00:00:...|      1105|    null|       null|            CA|           201701|null|CHRY|        PA|   GO|     1159 HUNTLEY DR| 2A75|     1|        8069AA|     NO STOP/STAND AM|         93|    99999|    99999|              null|             null|                  null|\n",
      "|   1106506446|2015-12-22T00:00:...|      1110|    null|       null|            CA|           201511|null| BMW|        PA|   BK|      1200 W MIRAMAR| 2A75|     1|        4000A1|   NO EVIDENCE OF REG|         50|    99999|    99999|              null|             null|                  null|\n",
      "|   1106549754|2015-12-15T00:00:...|       825|    null|       null|            CA|           201607|null|PTRB|        TR|   BK|           4TH/STATE| CM96|     1|         8069A| NO STOPPING/STANDING|         93|    99999|    99999|              null|             null|                  null|\n",
      "|   1107179581|2015-12-27T00:00:...|      1055|    null|       null|            CA|           201605|null|TOYO|        PA|   BK|3100 N HOLLYRIDGE DR| null|    54|         8058L|         PREF PARKING|         68|    99999|    99999|              null|             null|                  null|\n",
      "|   1107179592|2015-12-27T00:00:...|      1200|    null|       null|            CA|           201602|null|MBNZ|        PA|   BK|   3115 N BERENDO DR| null|    54|         8058L|         PREF PARKING|         68|    99999|    99999|              null|             null|                  null|\n",
      "|   1107179603|2015-12-27T00:00:...|      1400|    null|       null|            CA|           201611|null|NISS|        PA|   WH| 3100 N BEACHWOOD DR| null|    54|         8058L|         PREF PARKING|         68|    99999|    99999|              null|             null|                  null|\n",
      "|   1107539823|2015-09-16T00:00:...|      2120|    null|       null|            CA|           201502|null|NISS|        PA| null|      BLAINE/11TH PL|1FB95|     1|        4000A1|   NO EVIDENCE OF REG|         50|    99999|    99999|              null|             null|                  null|\n",
      "|   1107539834|2015-09-16T00:00:...|      1045|    null|       null|            CA|             null|null|CHEV|        PA|   BK|  1246 S FIGUEROA ST| 1L20|     1|        8069AP|     NO STOP/STAND PM|         93|    99999|    99999|              null|             null|                  null|\n",
      "|   1107780811|2015-12-22T00:00:...|      1102|    null|       null|            CA|           201606|null|HOND|        PA|   BK|       PLATA/RAMPART|  2A1|     1|         8069B|           NO PARKING|         73|    99999|    99999|              null|             null|                  null|\n",
      "+-------------+--------------------+----------+--------+-----------+--------------+-----------------+----+----+----------+-----+--------------------+-----+------+--------------+---------------------+-----------+---------+---------+------------------+-----------------+----------------------+\n",
      "only showing top 20 rows\n",
      "\n"
     ]
    },
    {
     "name": "stderr",
     "output_type": "stream",
     "text": [
      "                                                                                \r"
     ]
    }
   ],
   "source": [
    "data_frame.show()"
   ]
  },
  {
   "cell_type": "code",
   "execution_count": 14,
   "id": "f9025b6a-6590-4926-90b3-2fa5ba79e552",
   "metadata": {},
   "outputs": [
    {
     "name": "stdout",
     "output_type": "stream",
     "text": [
      "root\n",
      " |-- Ticket number: string (nullable = true)\n",
      " |-- Issue Date: string (nullable = true)\n",
      " |-- Issue time: string (nullable = true)\n",
      " |-- Meter Id: string (nullable = true)\n",
      " |-- Marked Time: string (nullable = true)\n",
      " |-- RP State Plate: string (nullable = true)\n",
      " |-- Plate Expiry Date: string (nullable = true)\n",
      " |-- VIN: string (nullable = true)\n",
      " |-- Make: string (nullable = true)\n",
      " |-- Body Style: string (nullable = true)\n",
      " |-- Color: string (nullable = true)\n",
      " |-- Location: string (nullable = true)\n",
      " |-- Route: string (nullable = true)\n",
      " |-- Agency: string (nullable = true)\n",
      " |-- Violation code: string (nullable = true)\n",
      " |-- Violation Description: string (nullable = true)\n",
      " |-- Fine amount: string (nullable = true)\n",
      " |-- Latitude: string (nullable = true)\n",
      " |-- Longitude: string (nullable = true)\n",
      " |-- Agency Description: string (nullable = true)\n",
      " |-- Color Description: string (nullable = true)\n",
      " |-- Body Style Description: string (nullable = true)\n",
      "\n"
     ]
    }
   ],
   "source": [
    "#schema\n",
    "data_frame.printSchema()"
   ]
  },
  {
   "cell_type": "code",
   "execution_count": 4,
   "id": "15b05a35-a606-490f-b996-6330700a136e",
   "metadata": {},
   "outputs": [
    {
     "name": "stderr",
     "output_type": "stream",
     "text": [
      "                                                                                \r"
     ]
    },
    {
     "data": {
      "text/plain": [
       "13077724"
      ]
     },
     "execution_count": 4,
     "metadata": {},
     "output_type": "execute_result"
    }
   ],
   "source": [
    "data_frame.count()"
   ]
  },
  {
   "cell_type": "code",
   "execution_count": 5,
   "id": "03fc7239-91e7-4430-ba45-6376efaa7a50",
   "metadata": {},
   "outputs": [
    {
     "data": {
      "text/plain": [
       "16"
      ]
     },
     "execution_count": 5,
     "metadata": {},
     "output_type": "execute_result"
    }
   ],
   "source": [
    "data_frame.rdd.getNumPartitions()"
   ]
  },
  {
   "cell_type": "code",
   "execution_count": 3,
   "id": "f420022b-244c-49ee-b743-a204c32bb60b",
   "metadata": {},
   "outputs": [],
   "source": [
    "data4 = data_frame.drop('VIN','Latitude', 'Longitude')"
   ]
  },
  {
   "cell_type": "code",
   "execution_count": 25,
   "id": "9d6217b9-14a0-4c4f-b7a4-9700d48b789d",
   "metadata": {},
   "outputs": [
    {
     "name": "stderr",
     "output_type": "stream",
     "text": [
      "[Stage 24:====================================================>   (15 + 1) / 16]\r"
     ]
    },
    {
     "name": "stdout",
     "output_type": "stream",
     "text": [
      "+-------------+--------------------+----------+--------+-----------+--------------+-----------------+----+----------+-----+--------------------+-----+------+--------------+---------------------+-----------+-------------------+-----------------+----------------------+\n",
      "|Ticket number|          Issue Date|Issue time|Meter Id|Marked Time|RP State Plate|Plate Expiry Date|Make|Body Style|Color|            Location|Route|Agency|Violation code|Violation Description|Fine amount| Agency Description|Color Description|Body Style Description|\n",
      "+-------------+--------------------+----------+--------+-----------+--------------+-----------------+----+----------+-----+--------------------+-----+------+--------------+---------------------+-----------+-------------------+-----------------+----------------------+\n",
      "|   4359446453|2019-07-31T00:00:...|     612.0|    null|       null|            IL|             null|PTRB|        CM|   BK|     12800 HAMLIN ST|00315|  53.0|       80.69.4|           PK OVERSIZ|       98.0|               null|             null|                  null|\n",
      "|   4362009993|2019-12-23T00:00:...|     447.0|    null|       null|            CA|           202008|CHEV|        MH|   BG|    1925 PONTIUS AVE| 503A|  51.0|       80.69.4|           PK OVERSIZ|       98.0| 51 - DOT - WESTERN|            BEIGE|            MOTOR HOME|\n",
      "|   4357851842|2019-07-29T00:00:...|     445.0|    null|       null|            CA|         201912.0|FORD|        TK|   WT|    12120 SATICOY ST|00300|  53.0|       80.69.4|           PK OVERSIZ|       98.0|               null|             null|                  null|\n",
      "|   4359346530|2019-08-05T00:00:...|     549.0|    null|       null|            CA|           201805| UNK|        MH|   GN|    8400 TELFAIR AVE|00316|  53.0|       80.69.4|           PK OVERSIZ|       98.0|  53 - DOT - VALLEY|            GREEN|            MOTOR HOME|\n",
      "|   4361880515|2019-11-20T00:00:...|     256.0|    null|       null|            CA|             null|FORD|        MH|   TN|   3800 MARCASEL AVE| 502A|  51.0|       80.69.4|           PK OVERSIZ|       98.0| 51 - DOT - WESTERN|              TAN|            MOTOR HOME|\n",
      "|   4360048265|2019-08-13T00:00:...|     523.0|    null|       null|            CA|           201908|FORD|        PU|   WT|   3811 MARCASEL AVE| 502A|  51.0|       80.69.4|           PK OVERSIZ|       98.0| 51 - DOT - WESTERN|            WHITE|         PICK-UP TRUCK|\n",
      "|   4360599983|2019-11-17T00:00:...|     410.0|    null|       null|            CA|           202007|FORD|        TK|   WT| 12110 CULVER BLVD W| 502A|  51.0|       80.69.4|           PK OVERSIZ|       98.0| 51 - DOT - WESTERN|            WHITE|                 TRUCK|\n",
      "|   4356783686|2019-07-02T00:00:...|     402.0|    null|       null|            CA|         202004.0|FRHT|        TK|   BL|  19327 LONDELIUS ST|00316|  53.0|       80.69.4|           PK OVERSIZ|       98.0|               null|             null|                  null|\n",
      "|   4504035281|2019-10-26T00:00:...|     347.0|    null|       null|            CA|           202006|MITS|        CM|   WT|1831 WASHINGTON BL W|00500|  55.0|       80.69.4|           PK OVERSIZ|       98.0|55 - DOT - SOUTHERN|            WHITE|            COMMERCIAL|\n",
      "|   4504283582|2019-10-26T00:00:...|     259.0|    null|       null|            CA|           202010|CHEV|        TK|   BL|4468 KENSINGTON ROAD| 502B|  51.0|       80.69.4|           PK OVERSIZ|       98.0| 51 - DOT - WESTERN|             BLUE|                 TRUCK|\n",
      "|   4361415332|2019-11-18T00:00:...|     416.0|    null|       null|            AZ|           202009|WINN|        MH|   WT|673 WASHINGTON BL...| 502A|  51.0|       80.69.4|           PK OVERSIZ|       98.0| 51 - DOT - WESTERN|            WHITE|            MOTOR HOME|\n",
      "|   4360048254|2019-08-13T00:00:...|     514.0|    null|       null|            CA|           202005|FORD|        TK|   WT|   3810 MARCASEL AVE| 502A|  51.0|       80.69.4|           PK OVERSIZ|       98.0| 51 - DOT - WESTERN|            WHITE|                 TRUCK|\n",
      "|   4359460033|2019-08-05T00:00:...|     344.0|    null|       null|            AZ|             null| GMC|        CM|   WT|      6301 GLADE AVE|00300|  53.0|       80.69.4|           PK OVERSIZ|       98.0|  53 - DOT - VALLEY|            WHITE|            COMMERCIAL|\n",
      "|   4357748430|2019-07-02T00:00:...|     535.0|    null|       null|            CA|         201705.0|WINN|        MH|   TN|  3302 PACIFIC AVE S| 502A|  51.0|       80.69.4|           PK OVERSIZ|       98.0|               null|             null|                  null|\n",
      "|   1125074230|2021-05-20T00:00:...|       520|    null|       null|            CA|           201908|BROU|        MH|   TA|   16065 FOOTHILL BL|01901|     1|        80694*|                 null|         98|            WESTERN|             null|            MOTOR HOME|\n",
      "|   4531247840|2021-06-02T00:00:...|       342|    null|       null|            ID|             null|FORD|        MH|   WT| 16065 FOOTHILL BLVD|00317|    53|       80.69.4|           PK OVERSIZ|         98|  53 - DOT - VALLEY|            WHITE|            MOTOR HOME|\n",
      "|   4532661696|2021-06-30T00:00:...|       515|    null|       null|            CA|             null|OTHR|        MH|   BK|      8849 HELEN AVE|00316|    53|       80.69.4|           PK OVERSIZ|         98|  53 - DOT - VALLEY|            BLACK|            MOTOR HOME|\n",
      "|   4531247980|2021-06-03T00:00:...|       235|    null|       null|            CA|           201802|OTHR|        MH|   BG|    18830 PRAIRIE ST|00317|    53|       80.69.4|           PK OVERSIZ|         98|  53 - DOT - VALLEY|            BEIGE|            MOTOR HOME|\n",
      "|   4532461264|2021-07-01T00:00:...|       346|    null|       null|            CA|           202004|FORD|        MH|   WT|      834 LAGUNA AVE|00600|    56|       80.69.4|           PK OVERSIZ|         98| 56 - DOT - CENTRAL|            WHITE|            MOTOR HOME|\n",
      "|   1122778580|2021-03-26T00:00:...|       250|    null|       null|            CA|           201605|COLU|        MH|   WH|    7535 VALJEAN AVE|  3L5|    11|          null|                 null|         98|         VN AIRPORT|             null|            MOTOR HOME|\n",
      "+-------------+--------------------+----------+--------+-----------+--------------+-----------------+----+----------+-----+--------------------+-----+------+--------------+---------------------+-----------+-------------------+-----------------+----------------------+\n",
      "only showing top 20 rows\n",
      "\n"
     ]
    },
    {
     "name": "stderr",
     "output_type": "stream",
     "text": [
      "                                                                                \r"
     ]
    }
   ],
   "source": [
    "data4.orderBy('Fine amount', ascending=False).show()"
   ]
  },
  {
   "cell_type": "code",
   "execution_count": 21,
   "id": "0b707b61-64a9-45ec-9749-6fafdde050a6",
   "metadata": {},
   "outputs": [
    {
     "name": "stderr",
     "output_type": "stream",
     "text": [
      "                                                                                \r"
     ]
    },
    {
     "name": "stdout",
     "output_type": "stream",
     "text": [
      "+-------------+--------------------+----------+--------+-----------+--------------+-----------------+----+----------+-----+--------------------+-----+------+--------------+---------------------+-----------+--------------------+-----------------+----------------------+\n",
      "|Ticket number|          Issue Date|Issue time|Meter Id|Marked Time|RP State Plate|Plate Expiry Date|Make|Body Style|Color|            Location|Route|Agency|Violation code|Violation Description|Fine amount|  Agency Description|Color Description|Body Style Description|\n",
      "+-------------+--------------------+----------+--------+-----------+--------------+-----------------+----+----------+-----+--------------------+-----+------+--------------+---------------------+-----------+--------------------+-----------------+----------------------+\n",
      "|   4510322972|2020-02-05T00:00:...|      1127|    null|       null|            CA|           202010|HOND|        PA|   GY|  2055 FIGUEROA ST N|00600|    56|     22511.57B|   DP- RO NOT PRESENT|       1100|  56 - DOT - CENTRAL|             GREY|         PASSENGER CAR|\n",
      "|   4509686182|2020-02-05T00:00:...|      1239|    null|       null|            CA|           201910|TOYT|        PA|   WT|  21800 VICTORY BLVD|00310|    53|     22511.57B|   DP- RO NOT PRESENT|       1100|   53 - DOT - VALLEY|            WHITE|         PASSENGER CAR|\n",
      "|   4510302926|2020-02-05T00:00:...|       950|    null|       null|            CA|             null|VOLK|        PA|   BK| 5711 SEPULVEDA BLVD|00310|    53|     22511.57B|   DP- RO NOT PRESENT|       1100|   53 - DOT - VALLEY|            BLACK|         PASSENGER CAR|\n",
      "|   4509822181|2020-02-03T00:00:...|      1138|    null|       null|            CA|           202009| GMC|        PA|   GY|  1528 SCHRADER BLVD|00483|    54|     22511.57B|   DP- RO NOT PRESENT|       1100|54 - DOT - HOLLYWOOD|             GREY|         PASSENGER CAR|\n",
      "|   4510302941|2020-02-05T00:00:...|      1122|    null|       null|            CA|           202003|NISS|        PA|   WT|  21800 VICTORY BLVD|00310|    53|     22511.57B|   DP- RO NOT PRESENT|       1100|   53 - DOT - VALLEY|            WHITE|         PASSENGER CAR|\n",
      "|   4509686160|2020-02-05T00:00:...|      1209|    null|       null|            CA|           202011|VOLV|        PA|   SL|  21800 VICTORY BLVD|00310|    53|     22511.57B|   DP- RO NOT PRESENT|       1100|   53 - DOT - VALLEY|           SILVER|         PASSENGER CAR|\n",
      "|   4511342673|2020-02-07T00:00:...|      1019|    null|       null|            CA|           202010|FORD|        PA|   GY|12975 JEFFERSON BLVD|00174|    51|     22511.57B|   DP- RO NOT PRESENT|       1100|  51 - DOT - WESTERN|             GREY|         PASSENGER CAR|\n",
      "|   4510804966|2020-02-07T00:00:...|       847|    null|       null|            CA|           202007|AUDI|        PA|   BK|  7257 SUNSET BLVD W|00461|    54|     22511.57B|   DP- RO NOT PRESENT|       1100|54 - DOT - HOLLYWOOD|            BLACK|         PASSENGER CAR|\n",
      "|   4510805036|2020-02-07T00:00:...|       953|    null|       null|            CA|           202003| BMW|        PA|   BK|    260 LA BREA AV S|00461|    54|     22511.57B|   DP- RO NOT PRESENT|       1100|54 - DOT - HOLLYWOOD|            BLACK|         PASSENGER CAR|\n",
      "|   4510804992|2020-02-07T00:00:...|       940|    null|       null|            CA|           202009|TOYT|        PA|   WT|    260 LA BREA AV S|00461|    54|     22511.57B|   DP- RO NOT PRESENT|       1100|54 - DOT - HOLLYWOOD|            WHITE|         PASSENGER CAR|\n",
      "|   4510805014|2020-02-07T00:00:...|       949|    null|       null|            CA|           202006|HOND|        PA|   WT|    260 LA BREA AV S|00461|    54|     22511.57B|   DP- RO NOT PRESENT|       1100|54 - DOT - HOLLYWOOD|            WHITE|         PASSENGER CAR|\n",
      "|   1127414665|2020-02-04T00:00:...|       100|    null|       null|            CA|           202009| TES|        PA|   WH|    601 WORLD WAY 1A| 3F52|     2|          null|                 null|       1100|         LAX CURRENT|             null|         PASSENGER CAR|\n",
      "|   1127414654|2020-01-29T00:00:...|       530|    null|       null|            CA|           202011|null|        PA|   BL| 7350 WORLD WAY WEST|  3Z2|     2|          null|                 null|       1100|         LAX CURRENT|             BLUE|         PASSENGER CAR|\n",
      "|   4511092585|2020-02-12T00:00:...|       919|    null|       null|            CA|           202012|MITS|        PA|   GY|  2055 FIGUEROA ST N|00600|    56|     22511.57B|   DP- RO NOT PRESENT|       1100|  56 - DOT - CENTRAL|             GREY|         PASSENGER CAR|\n",
      "|   4511337460|2020-02-12T00:00:...|      1015|    null|       null|            CA|           202008|CHEV|        PA|   SL|   2901 LOS FELIZ BL|00600|    56|     22511.57B|   DP- RO NOT PRESENT|       1100|  56 - DOT - CENTRAL|           SILVER|         PASSENGER CAR|\n",
      "|   4511465685|2020-02-12T00:00:...|      1124|    null|       null|            CA|             null|HOND|        PA|   WT|  21800 VICTORY BLVD|00315|    53|     22511.57B|   DP- RO NOT PRESENT|       1100|   53 - DOT - VALLEY|            WHITE|         PASSENGER CAR|\n",
      "|   4511458932|2020-02-12T00:00:...|      1518|    null|       null|            CA|           202007|TOYT|        PA|   BK| 4028 NORMANDIE AV S|00500|    55|     22511.57C|           DP-ALTERED|       1100| 55 - DOT - SOUTHERN|            BLACK|         PASSENGER CAR|\n",
      "|   4510784423|2020-02-12T00:00:...|       955|    null|       null|            CA|           202003|NISS|        PA|   TN|   8655 SEPULVEDA BL|00174|    51|     22511.57B|   DP- RO NOT PRESENT|       1100|  51 - DOT - WESTERN|              TAN|         PASSENGER CAR|\n",
      "|   4511050983|2020-02-12T00:00:...|      1040|    null|       null|            CA|           202102|HYUN|        PA|   GY|  21800 VICTORY BLVD|00309|    53|     22511.57B|   DP- RO NOT PRESENT|       1100|   53 - DOT - VALLEY|             GREY|         PASSENGER CAR|\n",
      "|   4510994703|2020-02-13T00:00:...|      1210|    null|       null|            CA|           202007|HYUN|        PA|   BG|    3131 HOOVER ST S|00500|    55|     22511.57B|   DP- RO NOT PRESENT|       1100| 55 - DOT - SOUTHERN|            BEIGE|         PASSENGER CAR|\n",
      "+-------------+--------------------+----------+--------+-----------+--------------+-----------------+----+----------+-----+--------------------+-----+------+--------------+---------------------+-----------+--------------------+-----------------+----------------------+\n",
      "only showing top 20 rows\n",
      "\n"
     ]
    },
    {
     "name": "stderr",
     "output_type": "stream",
     "text": [
      "                                                                                \r"
     ]
    }
   ],
   "source": [
    "data4.filter(data4['Fine amount'] == '1100').show()"
   ]
  },
  {
   "cell_type": "code",
   "execution_count": 4,
   "id": "74dab4d4-23a4-4e5e-b5d8-55f54501cffc",
   "metadata": {},
   "outputs": [],
   "source": [
    "from pyspark.sql.types import DecimalType\n",
    "data_5= data4.withColumn(\"Fine amount\",data4[\"Fine amount\"].cast(DecimalType()))"
   ]
  },
  {
   "cell_type": "code",
   "execution_count": 5,
   "id": "2477e346-2536-4565-9162-8ba5fd5f3889",
   "metadata": {},
   "outputs": [
    {
     "name": "stderr",
     "output_type": "stream",
     "text": [
      "                                                                                \r"
     ]
    },
    {
     "name": "stdout",
     "output_type": "stream",
     "text": [
      "+-------------+--------------------+----------+--------+-----------+--------------+-----------------+----+----------+-----+--------------------+-----+------+--------------+---------------------+-----------+--------------------+-----------------+----------------------+\n",
      "|Ticket number|          Issue Date|Issue time|Meter Id|Marked Time|RP State Plate|Plate Expiry Date|Make|Body Style|Color|            Location|Route|Agency|Violation code|Violation Description|Fine amount|  Agency Description|Color Description|Body Style Description|\n",
      "+-------------+--------------------+----------+--------+-----------+--------------+-----------------+----+----------+-----+--------------------+-----+------+--------------+---------------------+-----------+--------------------+-----------------+----------------------+\n",
      "|   4510804966|2020-02-07T00:00:...|       847|    null|       null|            CA|           202007|AUDI|        PA|   BK|  7257 SUNSET BLVD W|00461|    54|     22511.57B|   DP- RO NOT PRESENT|       1100|54 - DOT - HOLLYWOOD|            BLACK|         PASSENGER CAR|\n",
      "|   4510853734|2020-02-14T00:00:...|       736|    null|       null|            CA|           202003|HOND|        PA|   WT|    5600 SUNSET BL W|00455|    54|     22511.57B|   DP- RO NOT PRESENT|       1100|54 - DOT - HOLLYWOOD|            WHITE|         PASSENGER CAR|\n",
      "|   4510784423|2020-02-12T00:00:...|       955|    null|       null|            CA|           202003|NISS|        PA|   TN|   8655 SEPULVEDA BL|00174|    51|     22511.57B|   DP- RO NOT PRESENT|       1100|  51 - DOT - WESTERN|              TAN|         PASSENGER CAR|\n",
      "|   4509822181|2020-02-03T00:00:...|      1138|    null|       null|            CA|           202009| GMC|        PA|   GY|  1528 SCHRADER BLVD|00483|    54|     22511.57B|   DP- RO NOT PRESENT|       1100|54 - DOT - HOLLYWOOD|             GREY|         PASSENGER CAR|\n",
      "|   4511092585|2020-02-12T00:00:...|       919|    null|       null|            CA|           202012|MITS|        PA|   GY|  2055 FIGUEROA ST N|00600|    56|     22511.57B|   DP- RO NOT PRESENT|       1100|  56 - DOT - CENTRAL|             GREY|         PASSENGER CAR|\n",
      "|   4511465685|2020-02-12T00:00:...|      1124|    null|       null|            CA|             null|HOND|        PA|   WT|  21800 VICTORY BLVD|00315|    53|     22511.57B|   DP- RO NOT PRESENT|       1100|   53 - DOT - VALLEY|            WHITE|         PASSENGER CAR|\n",
      "|   4510805036|2020-02-07T00:00:...|       953|    null|       null|            CA|           202003| BMW|        PA|   BK|    260 LA BREA AV S|00461|    54|     22511.57B|   DP- RO NOT PRESENT|       1100|54 - DOT - HOLLYWOOD|            BLACK|         PASSENGER CAR|\n",
      "|   4510853701|2020-02-14T00:00:...|       724|    null|       null|            CA|           202005|CHEV|        PA|   BK|    5600 SUNSET BL W|00455|    54|     22511.57B|   DP- RO NOT PRESENT|       1100|54 - DOT - HOLLYWOOD|            BLACK|         PASSENGER CAR|\n",
      "|   4510994880|2020-02-14T00:00:...|       941|    null|       null|            CA|           202007|CADI|        PA|   BK|   944 SLAUSON AVE E|00500|    55|     22511.57B|   DP- RO NOT PRESENT|       1100| 55 - DOT - SOUTHERN|            BLACK|         PASSENGER CAR|\n",
      "|   1127414654|2020-01-29T00:00:...|       530|    null|       null|            CA|           202011|null|        PA|   BL| 7350 WORLD WAY WEST|  3Z2|     2|          null|                 null|       1100|         LAX CURRENT|             BLUE|         PASSENGER CAR|\n",
      "|   4510805014|2020-02-07T00:00:...|       949|    null|       null|            CA|           202006|HOND|        PA|   WT|    260 LA BREA AV S|00461|    54|     22511.57B|   DP- RO NOT PRESENT|       1100|54 - DOT - HOLLYWOOD|            WHITE|         PASSENGER CAR|\n",
      "|   4511337460|2020-02-12T00:00:...|      1015|    null|       null|            CA|           202008|CHEV|        PA|   SL|   2901 LOS FELIZ BL|00600|    56|     22511.57B|   DP- RO NOT PRESENT|       1100|  56 - DOT - CENTRAL|           SILVER|         PASSENGER CAR|\n",
      "|   4510302941|2020-02-05T00:00:...|      1122|    null|       null|            CA|           202003|NISS|        PA|   WT|  21800 VICTORY BLVD|00310|    53|     22511.57B|   DP- RO NOT PRESENT|       1100|   53 - DOT - VALLEY|            WHITE|         PASSENGER CAR|\n",
      "|   4511342673|2020-02-07T00:00:...|      1019|    null|       null|            CA|           202010|FORD|        PA|   GY|12975 JEFFERSON BLVD|00174|    51|     22511.57B|   DP- RO NOT PRESENT|       1100|  51 - DOT - WESTERN|             GREY|         PASSENGER CAR|\n",
      "|   4511458932|2020-02-12T00:00:...|      1518|    null|       null|            CA|           202007|TOYT|        PA|   BK| 4028 NORMANDIE AV S|00500|    55|     22511.57C|           DP-ALTERED|       1100| 55 - DOT - SOUTHERN|            BLACK|         PASSENGER CAR|\n",
      "|   1127414665|2020-02-04T00:00:...|       100|    null|       null|            CA|           202009| TES|        PA|   WH|    601 WORLD WAY 1A| 3F52|     2|          null|                 null|       1100|         LAX CURRENT|             null|         PASSENGER CAR|\n",
      "|   4510322972|2020-02-05T00:00:...|      1127|    null|       null|            CA|           202010|HOND|        PA|   GY|  2055 FIGUEROA ST N|00600|    56|     22511.57B|   DP- RO NOT PRESENT|       1100|  56 - DOT - CENTRAL|             GREY|         PASSENGER CAR|\n",
      "|   4510853782|2020-02-14T00:00:...|       801|    null|       null|            CA|           202005|CHEV|        PA|   WT|    5600 SUNSET BL W|00455|    54|     22511.57A|          DP-SUBPLATE|       1100|54 - DOT - HOLLYWOOD|            WHITE|         PASSENGER CAR|\n",
      "|   4509686182|2020-02-05T00:00:...|      1239|    null|       null|            CA|           201910|TOYT|        PA|   WT|  21800 VICTORY BLVD|00310|    53|     22511.57B|   DP- RO NOT PRESENT|       1100|   53 - DOT - VALLEY|            WHITE|         PASSENGER CAR|\n",
      "|   4511267180|2020-02-21T00:00:...|       726|    null|       null|            CA|           202002|DODG|        PA|   GY|  5600 SUNSET BLVD W|00456|    54|     22511.57B|   DP- RO NOT PRESENT|       1100|54 - DOT - HOLLYWOOD|             GREY|         PASSENGER CAR|\n",
      "+-------------+--------------------+----------+--------+-----------+--------------+-----------------+----+----------+-----+--------------------+-----+------+--------------+---------------------+-----------+--------------------+-----------------+----------------------+\n",
      "only showing top 20 rows\n",
      "\n"
     ]
    }
   ],
   "source": [
    "data_5.orderBy('Fine amount', ascending=False).show()"
   ]
  },
  {
   "cell_type": "code",
   "execution_count": 6,
   "id": "340521a6-b1a2-4cc9-b07b-25752f7077ec",
   "metadata": {},
   "outputs": [
    {
     "name": "stderr",
     "output_type": "stream",
     "text": [
      "                                                                                \r"
     ]
    }
   ],
   "source": [
    "maxfine = data_5.agg({\"Fine amount\": \"max\"}).collect()[0]"
   ]
  },
  {
   "cell_type": "code",
   "execution_count": 7,
   "id": "4a972bff-644c-42af-82c0-6280330b47a8",
   "metadata": {},
   "outputs": [
    {
     "name": "stdout",
     "output_type": "stream",
     "text": [
      "Row(max(Fine amount)=Decimal('1100'))\n"
     ]
    }
   ],
   "source": [
    "print(maxfine)"
   ]
  },
  {
   "cell_type": "code",
   "execution_count": 8,
   "id": "7689c963-efd2-49b8-a239-0803e6f6dba0",
   "metadata": {},
   "outputs": [
    {
     "name": "stderr",
     "output_type": "stream",
     "text": [
      "                                                                                \r"
     ]
    }
   ],
   "source": [
    "numberOfMaxFine = data_5.filter(data_5['Fine amount'] == 1100).count()"
   ]
  },
  {
   "cell_type": "code",
   "execution_count": 9,
   "id": "cdf54ce4-dc47-4573-9113-f914bf51049b",
   "metadata": {},
   "outputs": [
    {
     "name": "stdout",
     "output_type": "stream",
     "text": [
      "\u001b[34m 626 \u001b[0m tickets have the max fine of 1100 money units\n"
     ]
    }
   ],
   "source": [
    "print(\"\\033[34m\",numberOfMaxFine,\"\\033[0m\", 'tickets have the max fine of 1100 money units')"
   ]
  },
  {
   "cell_type": "markdown",
   "id": "366a5014-1d61-445f-ae2c-cac7a2b8a0e1",
   "metadata": {},
   "source": [
    "## B7"
   ]
  },
  {
   "cell_type": "code",
   "execution_count": 14,
   "id": "a56c1b17-fbb8-4a55-b0a1-3531fa23a40b",
   "metadata": {},
   "outputs": [
    {
     "name": "stderr",
     "output_type": "stream",
     "text": [
      "22/02/25 11:32:57 ERROR TaskSetManager: Task 2 in stage 10.0 failed 4 times; aborting job\n"
     ]
    },
    {
     "ename": "Py4JJavaError",
     "evalue": "An error occurred while calling o159.showString.\n: org.apache.spark.SparkException: Job aborted due to stage failure: Task 2 in stage 10.0 failed 4 times, most recent failure: Lost task 2.3 in stage 10.0 (TID 138) (192.168.2.119 executor 1): com.esotericsoftware.kryo.KryoException: java.io.IOException: No space left on device\n\tat com.esotericsoftware.kryo.io.Output.flush(Output.java:188)\n\tat com.esotericsoftware.kryo.io.Output.require(Output.java:164)\n\tat com.esotericsoftware.kryo.io.Output.writeBytes(Output.java:251)\n\tat com.esotericsoftware.kryo.io.Output.writeBytes(Output.java:237)\n\tat com.esotericsoftware.kryo.serializers.DefaultArraySerializers$ByteArraySerializer.write(DefaultArraySerializers.java:49)\n\tat com.esotericsoftware.kryo.serializers.DefaultArraySerializers$ByteArraySerializer.write(DefaultArraySerializers.java:38)\n\tat com.esotericsoftware.kryo.Kryo.writeClassAndObject(Kryo.java:651)\n\tat org.apache.spark.serializer.KryoSerializationStream.writeObject(KryoSerializer.scala:269)\n\tat org.apache.spark.serializer.SerializationStream.writeAll(Serializer.scala:140)\n\tat org.apache.spark.serializer.SerializerManager.dataSerializeStream(SerializerManager.scala:177)\n\tat org.apache.spark.storage.BlockManager.$anonfun$dropFromMemory$3(BlockManager.scala:1848)\n\tat org.apache.spark.storage.BlockManager.$anonfun$dropFromMemory$3$adapted(BlockManager.scala:1843)\n\tat org.apache.spark.storage.DiskStore.put(DiskStore.scala:70)\n\tat org.apache.spark.storage.BlockManager.dropFromMemory(BlockManager.scala:1843)\n\tat org.apache.spark.storage.memory.MemoryStore.dropBlock$1(MemoryStore.scala:490)\n\tat org.apache.spark.storage.memory.MemoryStore.$anonfun$evictBlocksToFreeSpace$4(MemoryStore.scala:516)\n\tat scala.collection.immutable.Range.foreach$mVc$sp(Range.scala:158)\n\tat org.apache.spark.storage.memory.MemoryStore.evictBlocksToFreeSpace(MemoryStore.scala:507)\n\tat org.apache.spark.memory.StorageMemoryPool.freeSpaceToShrinkPool(StorageMemoryPool.scala:130)\n\tat org.apache.spark.memory.UnifiedMemoryManager.maybeGrowExecutionPool$1(UnifiedMemoryManager.scala:123)\n\tat org.apache.spark.memory.UnifiedMemoryManager.$anonfun$acquireExecutionMemory$1(UnifiedMemoryManager.scala:148)\n\tat org.apache.spark.memory.ExecutionMemoryPool.acquireMemory(ExecutionMemoryPool.scala:119)\n\tat org.apache.spark.memory.UnifiedMemoryManager.acquireExecutionMemory(UnifiedMemoryManager.scala:148)\n\tat org.apache.spark.memory.TaskMemoryManager.acquireExecutionMemory(TaskMemoryManager.java:147)\n\tat org.apache.spark.memory.TaskMemoryManager.allocatePage(TaskMemoryManager.java:297)\n\tat org.apache.spark.memory.MemoryConsumer.allocatePage(MemoryConsumer.java:116)\n\tat org.apache.spark.sql.catalyst.expressions.RowBasedKeyValueBatch.acquirePage(RowBasedKeyValueBatch.java:127)\n\tat org.apache.spark.sql.catalyst.expressions.RowBasedKeyValueBatch.<init>(RowBasedKeyValueBatch.java:107)\n\tat org.apache.spark.sql.catalyst.expressions.VariableLengthRowBasedKeyValueBatch.<init>(VariableLengthRowBasedKeyValueBatch.java:186)\n\tat org.apache.spark.sql.catalyst.expressions.RowBasedKeyValueBatch.allocate(RowBasedKeyValueBatch.java:92)\n\tat org.apache.spark.sql.catalyst.expressions.GeneratedClass$GeneratedIteratorForCodegenStage1$agg_FastHashMap_0.<init>(Unknown Source)\n\tat org.apache.spark.sql.catalyst.expressions.GeneratedClass$GeneratedIteratorForCodegenStage1.processNext(Unknown Source)\n\tat org.apache.spark.sql.execution.BufferedRowIterator.hasNext(BufferedRowIterator.java:43)\n\tat org.apache.spark.sql.execution.WholeStageCodegenExec$$anon$1.hasNext(WholeStageCodegenExec.scala:759)\n\tat scala.collection.Iterator$$anon$10.hasNext(Iterator.scala:460)\n\tat org.apache.spark.shuffle.sort.BypassMergeSortShuffleWriter.write(BypassMergeSortShuffleWriter.java:140)\n\tat org.apache.spark.shuffle.ShuffleWriteProcessor.write(ShuffleWriteProcessor.scala:59)\n\tat org.apache.spark.scheduler.ShuffleMapTask.runTask(ShuffleMapTask.scala:99)\n\tat org.apache.spark.scheduler.ShuffleMapTask.runTask(ShuffleMapTask.scala:52)\n\tat org.apache.spark.scheduler.Task.run(Task.scala:131)\n\tat org.apache.spark.executor.Executor$TaskRunner.$anonfun$run$3(Executor.scala:506)\n\tat org.apache.spark.util.Utils$.tryWithSafeFinally(Utils.scala:1462)\n\tat org.apache.spark.executor.Executor$TaskRunner.run(Executor.scala:509)\n\tat java.util.concurrent.ThreadPoolExecutor.runWorker(ThreadPoolExecutor.java:1149)\n\tat java.util.concurrent.ThreadPoolExecutor$Worker.run(ThreadPoolExecutor.java:624)\n\tat java.lang.Thread.run(Thread.java:748)\nCaused by: java.io.IOException: No space left on device\n\tat sun.nio.ch.FileDispatcherImpl.write0(Native Method)\n\tat sun.nio.ch.FileDispatcherImpl.write(FileDispatcherImpl.java:60)\n\tat sun.nio.ch.IOUtil.writeFromNativeBuffer(IOUtil.java:93)\n\tat sun.nio.ch.IOUtil.write(IOUtil.java:65)\n\tat sun.nio.ch.FileChannelImpl.write(FileChannelImpl.java:211)\n\tat org.apache.spark.storage.CountingWritableChannel.write(DiskStore.scala:339)\n\tat java.nio.channels.Channels.writeFullyImpl(Channels.java:78)\n\tat java.nio.channels.Channels.writeFully(Channels.java:101)\n\tat java.nio.channels.Channels.access$000(Channels.java:61)\n\tat java.nio.channels.Channels$1.write(Channels.java:174)\n\tat java.io.BufferedOutputStream.write(BufferedOutputStream.java:122)\n\tat net.jpountz.lz4.LZ4BlockOutputStream.flushBufferedData(LZ4BlockOutputStream.java:223)\n\tat net.jpountz.lz4.LZ4BlockOutputStream.write(LZ4BlockOutputStream.java:176)\n\tat com.esotericsoftware.kryo.io.Output.flush(Output.java:185)\n\t... 45 more\n\nDriver stacktrace:\n\tat org.apache.spark.scheduler.DAGScheduler.failJobAndIndependentStages(DAGScheduler.scala:2403)\n\tat org.apache.spark.scheduler.DAGScheduler.$anonfun$abortStage$2(DAGScheduler.scala:2352)\n\tat org.apache.spark.scheduler.DAGScheduler.$anonfun$abortStage$2$adapted(DAGScheduler.scala:2351)\n\tat scala.collection.mutable.ResizableArray.foreach(ResizableArray.scala:62)\n\tat scala.collection.mutable.ResizableArray.foreach$(ResizableArray.scala:55)\n\tat scala.collection.mutable.ArrayBuffer.foreach(ArrayBuffer.scala:49)\n\tat org.apache.spark.scheduler.DAGScheduler.abortStage(DAGScheduler.scala:2351)\n\tat org.apache.spark.scheduler.DAGScheduler.$anonfun$handleTaskSetFailed$1(DAGScheduler.scala:1109)\n\tat org.apache.spark.scheduler.DAGScheduler.$anonfun$handleTaskSetFailed$1$adapted(DAGScheduler.scala:1109)\n\tat scala.Option.foreach(Option.scala:407)\n\tat org.apache.spark.scheduler.DAGScheduler.handleTaskSetFailed(DAGScheduler.scala:1109)\n\tat org.apache.spark.scheduler.DAGSchedulerEventProcessLoop.doOnReceive(DAGScheduler.scala:2591)\n\tat org.apache.spark.scheduler.DAGSchedulerEventProcessLoop.onReceive(DAGScheduler.scala:2533)\n\tat org.apache.spark.scheduler.DAGSchedulerEventProcessLoop.onReceive(DAGScheduler.scala:2522)\n\tat org.apache.spark.util.EventLoop$$anon$1.run(EventLoop.scala:49)\nCaused by: com.esotericsoftware.kryo.KryoException: java.io.IOException: No space left on device\n\tat com.esotericsoftware.kryo.io.Output.flush(Output.java:188)\n\tat com.esotericsoftware.kryo.io.Output.require(Output.java:164)\n\tat com.esotericsoftware.kryo.io.Output.writeBytes(Output.java:251)\n\tat com.esotericsoftware.kryo.io.Output.writeBytes(Output.java:237)\n\tat com.esotericsoftware.kryo.serializers.DefaultArraySerializers$ByteArraySerializer.write(DefaultArraySerializers.java:49)\n\tat com.esotericsoftware.kryo.serializers.DefaultArraySerializers$ByteArraySerializer.write(DefaultArraySerializers.java:38)\n\tat com.esotericsoftware.kryo.Kryo.writeClassAndObject(Kryo.java:651)\n\tat org.apache.spark.serializer.KryoSerializationStream.writeObject(KryoSerializer.scala:269)\n\tat org.apache.spark.serializer.SerializationStream.writeAll(Serializer.scala:140)\n\tat org.apache.spark.serializer.SerializerManager.dataSerializeStream(SerializerManager.scala:177)\n\tat org.apache.spark.storage.BlockManager.$anonfun$dropFromMemory$3(BlockManager.scala:1848)\n\tat org.apache.spark.storage.BlockManager.$anonfun$dropFromMemory$3$adapted(BlockManager.scala:1843)\n\tat org.apache.spark.storage.DiskStore.put(DiskStore.scala:70)\n\tat org.apache.spark.storage.BlockManager.dropFromMemory(BlockManager.scala:1843)\n\tat org.apache.spark.storage.memory.MemoryStore.dropBlock$1(MemoryStore.scala:490)\n\tat org.apache.spark.storage.memory.MemoryStore.$anonfun$evictBlocksToFreeSpace$4(MemoryStore.scala:516)\n\tat scala.collection.immutable.Range.foreach$mVc$sp(Range.scala:158)\n\tat org.apache.spark.storage.memory.MemoryStore.evictBlocksToFreeSpace(MemoryStore.scala:507)\n\tat org.apache.spark.memory.StorageMemoryPool.freeSpaceToShrinkPool(StorageMemoryPool.scala:130)\n\tat org.apache.spark.memory.UnifiedMemoryManager.maybeGrowExecutionPool$1(UnifiedMemoryManager.scala:123)\n\tat org.apache.spark.memory.UnifiedMemoryManager.$anonfun$acquireExecutionMemory$1(UnifiedMemoryManager.scala:148)\n\tat org.apache.spark.memory.ExecutionMemoryPool.acquireMemory(ExecutionMemoryPool.scala:119)\n\tat org.apache.spark.memory.UnifiedMemoryManager.acquireExecutionMemory(UnifiedMemoryManager.scala:148)\n\tat org.apache.spark.memory.TaskMemoryManager.acquireExecutionMemory(TaskMemoryManager.java:147)\n\tat org.apache.spark.memory.TaskMemoryManager.allocatePage(TaskMemoryManager.java:297)\n\tat org.apache.spark.memory.MemoryConsumer.allocatePage(MemoryConsumer.java:116)\n\tat org.apache.spark.sql.catalyst.expressions.RowBasedKeyValueBatch.acquirePage(RowBasedKeyValueBatch.java:127)\n\tat org.apache.spark.sql.catalyst.expressions.RowBasedKeyValueBatch.<init>(RowBasedKeyValueBatch.java:107)\n\tat org.apache.spark.sql.catalyst.expressions.VariableLengthRowBasedKeyValueBatch.<init>(VariableLengthRowBasedKeyValueBatch.java:186)\n\tat org.apache.spark.sql.catalyst.expressions.RowBasedKeyValueBatch.allocate(RowBasedKeyValueBatch.java:92)\n\tat org.apache.spark.sql.catalyst.expressions.GeneratedClass$GeneratedIteratorForCodegenStage1$agg_FastHashMap_0.<init>(Unknown Source)\n\tat org.apache.spark.sql.catalyst.expressions.GeneratedClass$GeneratedIteratorForCodegenStage1.processNext(Unknown Source)\n\tat org.apache.spark.sql.execution.BufferedRowIterator.hasNext(BufferedRowIterator.java:43)\n\tat org.apache.spark.sql.execution.WholeStageCodegenExec$$anon$1.hasNext(WholeStageCodegenExec.scala:759)\n\tat scala.collection.Iterator$$anon$10.hasNext(Iterator.scala:460)\n\tat org.apache.spark.shuffle.sort.BypassMergeSortShuffleWriter.write(BypassMergeSortShuffleWriter.java:140)\n\tat org.apache.spark.shuffle.ShuffleWriteProcessor.write(ShuffleWriteProcessor.scala:59)\n\tat org.apache.spark.scheduler.ShuffleMapTask.runTask(ShuffleMapTask.scala:99)\n\tat org.apache.spark.scheduler.ShuffleMapTask.runTask(ShuffleMapTask.scala:52)\n\tat org.apache.spark.scheduler.Task.run(Task.scala:131)\n\tat org.apache.spark.executor.Executor$TaskRunner.$anonfun$run$3(Executor.scala:506)\n\tat org.apache.spark.util.Utils$.tryWithSafeFinally(Utils.scala:1462)\n\tat org.apache.spark.executor.Executor$TaskRunner.run(Executor.scala:509)\n\tat java.util.concurrent.ThreadPoolExecutor.runWorker(ThreadPoolExecutor.java:1149)\n\tat java.util.concurrent.ThreadPoolExecutor$Worker.run(ThreadPoolExecutor.java:624)\n\tat java.lang.Thread.run(Thread.java:748)\nCaused by: java.io.IOException: No space left on device\n\tat sun.nio.ch.FileDispatcherImpl.write0(Native Method)\n\tat sun.nio.ch.FileDispatcherImpl.write(FileDispatcherImpl.java:60)\n\tat sun.nio.ch.IOUtil.writeFromNativeBuffer(IOUtil.java:93)\n\tat sun.nio.ch.IOUtil.write(IOUtil.java:65)\n\tat sun.nio.ch.FileChannelImpl.write(FileChannelImpl.java:211)\n\tat org.apache.spark.storage.CountingWritableChannel.write(DiskStore.scala:339)\n\tat java.nio.channels.Channels.writeFullyImpl(Channels.java:78)\n\tat java.nio.channels.Channels.writeFully(Channels.java:101)\n\tat java.nio.channels.Channels.access$000(Channels.java:61)\n\tat java.nio.channels.Channels$1.write(Channels.java:174)\n\tat java.io.BufferedOutputStream.write(BufferedOutputStream.java:122)\n\tat net.jpountz.lz4.LZ4BlockOutputStream.flushBufferedData(LZ4BlockOutputStream.java:223)\n\tat net.jpountz.lz4.LZ4BlockOutputStream.write(LZ4BlockOutputStream.java:176)\n\tat com.esotericsoftware.kryo.io.Output.flush(Output.java:185)\n\t... 45 more\n",
     "output_type": "error",
     "traceback": [
      "\u001b[0;31m---------------------------------------------------------------------------\u001b[0m",
      "\u001b[0;31mPy4JJavaError\u001b[0m                             Traceback (most recent call last)",
      "Input \u001b[0;32mIn [14]\u001b[0m, in \u001b[0;36m<module>\u001b[0;34m\u001b[0m\n\u001b[0;32m----> 1\u001b[0m \u001b[43mdata_5\u001b[49m\u001b[38;5;241;43m.\u001b[39;49m\u001b[43mgroupBy\u001b[49m\u001b[43m(\u001b[49m\u001b[38;5;124;43m'\u001b[39;49m\u001b[38;5;124;43mMake\u001b[39;49m\u001b[38;5;124;43m'\u001b[39;49m\u001b[43m)\u001b[49m\u001b[38;5;241;43m.\u001b[39;49m\u001b[43mcount\u001b[49m\u001b[43m(\u001b[49m\u001b[43m)\u001b[49m\u001b[38;5;241;43m.\u001b[39;49m\u001b[43mshow\u001b[49m\u001b[43m(\u001b[49m\u001b[43m)\u001b[49m\n",
      "File \u001b[0;32m~/.local/lib/python3.8/site-packages/pyspark/sql/dataframe.py:494\u001b[0m, in \u001b[0;36mDataFrame.show\u001b[0;34m(self, n, truncate, vertical)\u001b[0m\n\u001b[1;32m    491\u001b[0m     \u001b[38;5;28;01mraise\u001b[39;00m \u001b[38;5;167;01mTypeError\u001b[39;00m(\u001b[38;5;124m\"\u001b[39m\u001b[38;5;124mParameter \u001b[39m\u001b[38;5;124m'\u001b[39m\u001b[38;5;124mvertical\u001b[39m\u001b[38;5;124m'\u001b[39m\u001b[38;5;124m must be a bool\u001b[39m\u001b[38;5;124m\"\u001b[39m)\n\u001b[1;32m    493\u001b[0m \u001b[38;5;28;01mif\u001b[39;00m \u001b[38;5;28misinstance\u001b[39m(truncate, \u001b[38;5;28mbool\u001b[39m) \u001b[38;5;129;01mand\u001b[39;00m truncate:\n\u001b[0;32m--> 494\u001b[0m     \u001b[38;5;28mprint\u001b[39m(\u001b[38;5;28;43mself\u001b[39;49m\u001b[38;5;241;43m.\u001b[39;49m\u001b[43m_jdf\u001b[49m\u001b[38;5;241;43m.\u001b[39;49m\u001b[43mshowString\u001b[49m\u001b[43m(\u001b[49m\u001b[43mn\u001b[49m\u001b[43m,\u001b[49m\u001b[43m \u001b[49m\u001b[38;5;241;43m20\u001b[39;49m\u001b[43m,\u001b[49m\u001b[43m \u001b[49m\u001b[43mvertical\u001b[49m\u001b[43m)\u001b[49m)\n\u001b[1;32m    495\u001b[0m \u001b[38;5;28;01melse\u001b[39;00m:\n\u001b[1;32m    496\u001b[0m     \u001b[38;5;28;01mtry\u001b[39;00m:\n",
      "File \u001b[0;32m~/.local/lib/python3.8/site-packages/py4j/java_gateway.py:1309\u001b[0m, in \u001b[0;36mJavaMember.__call__\u001b[0;34m(self, *args)\u001b[0m\n\u001b[1;32m   1303\u001b[0m command \u001b[38;5;241m=\u001b[39m proto\u001b[38;5;241m.\u001b[39mCALL_COMMAND_NAME \u001b[38;5;241m+\u001b[39m\\\n\u001b[1;32m   1304\u001b[0m     \u001b[38;5;28mself\u001b[39m\u001b[38;5;241m.\u001b[39mcommand_header \u001b[38;5;241m+\u001b[39m\\\n\u001b[1;32m   1305\u001b[0m     args_command \u001b[38;5;241m+\u001b[39m\\\n\u001b[1;32m   1306\u001b[0m     proto\u001b[38;5;241m.\u001b[39mEND_COMMAND_PART\n\u001b[1;32m   1308\u001b[0m answer \u001b[38;5;241m=\u001b[39m \u001b[38;5;28mself\u001b[39m\u001b[38;5;241m.\u001b[39mgateway_client\u001b[38;5;241m.\u001b[39msend_command(command)\n\u001b[0;32m-> 1309\u001b[0m return_value \u001b[38;5;241m=\u001b[39m \u001b[43mget_return_value\u001b[49m\u001b[43m(\u001b[49m\n\u001b[1;32m   1310\u001b[0m \u001b[43m    \u001b[49m\u001b[43manswer\u001b[49m\u001b[43m,\u001b[49m\u001b[43m \u001b[49m\u001b[38;5;28;43mself\u001b[39;49m\u001b[38;5;241;43m.\u001b[39;49m\u001b[43mgateway_client\u001b[49m\u001b[43m,\u001b[49m\u001b[43m \u001b[49m\u001b[38;5;28;43mself\u001b[39;49m\u001b[38;5;241;43m.\u001b[39;49m\u001b[43mtarget_id\u001b[49m\u001b[43m,\u001b[49m\u001b[43m \u001b[49m\u001b[38;5;28;43mself\u001b[39;49m\u001b[38;5;241;43m.\u001b[39;49m\u001b[43mname\u001b[49m\u001b[43m)\u001b[49m\n\u001b[1;32m   1312\u001b[0m \u001b[38;5;28;01mfor\u001b[39;00m temp_arg \u001b[38;5;129;01min\u001b[39;00m temp_args:\n\u001b[1;32m   1313\u001b[0m     temp_arg\u001b[38;5;241m.\u001b[39m_detach()\n",
      "File \u001b[0;32m~/.local/lib/python3.8/site-packages/pyspark/sql/utils.py:111\u001b[0m, in \u001b[0;36mcapture_sql_exception.<locals>.deco\u001b[0;34m(*a, **kw)\u001b[0m\n\u001b[1;32m    109\u001b[0m \u001b[38;5;28;01mdef\u001b[39;00m \u001b[38;5;21mdeco\u001b[39m(\u001b[38;5;241m*\u001b[39ma, \u001b[38;5;241m*\u001b[39m\u001b[38;5;241m*\u001b[39mkw):\n\u001b[1;32m    110\u001b[0m     \u001b[38;5;28;01mtry\u001b[39;00m:\n\u001b[0;32m--> 111\u001b[0m         \u001b[38;5;28;01mreturn\u001b[39;00m \u001b[43mf\u001b[49m\u001b[43m(\u001b[49m\u001b[38;5;241;43m*\u001b[39;49m\u001b[43ma\u001b[49m\u001b[43m,\u001b[49m\u001b[43m \u001b[49m\u001b[38;5;241;43m*\u001b[39;49m\u001b[38;5;241;43m*\u001b[39;49m\u001b[43mkw\u001b[49m\u001b[43m)\u001b[49m\n\u001b[1;32m    112\u001b[0m     \u001b[38;5;28;01mexcept\u001b[39;00m py4j\u001b[38;5;241m.\u001b[39mprotocol\u001b[38;5;241m.\u001b[39mPy4JJavaError \u001b[38;5;28;01mas\u001b[39;00m e:\n\u001b[1;32m    113\u001b[0m         converted \u001b[38;5;241m=\u001b[39m convert_exception(e\u001b[38;5;241m.\u001b[39mjava_exception)\n",
      "File \u001b[0;32m~/.local/lib/python3.8/site-packages/py4j/protocol.py:326\u001b[0m, in \u001b[0;36mget_return_value\u001b[0;34m(answer, gateway_client, target_id, name)\u001b[0m\n\u001b[1;32m    324\u001b[0m value \u001b[38;5;241m=\u001b[39m OUTPUT_CONVERTER[\u001b[38;5;28mtype\u001b[39m](answer[\u001b[38;5;241m2\u001b[39m:], gateway_client)\n\u001b[1;32m    325\u001b[0m \u001b[38;5;28;01mif\u001b[39;00m answer[\u001b[38;5;241m1\u001b[39m] \u001b[38;5;241m==\u001b[39m REFERENCE_TYPE:\n\u001b[0;32m--> 326\u001b[0m     \u001b[38;5;28;01mraise\u001b[39;00m Py4JJavaError(\n\u001b[1;32m    327\u001b[0m         \u001b[38;5;124m\"\u001b[39m\u001b[38;5;124mAn error occurred while calling \u001b[39m\u001b[38;5;132;01m{0}\u001b[39;00m\u001b[38;5;132;01m{1}\u001b[39;00m\u001b[38;5;132;01m{2}\u001b[39;00m\u001b[38;5;124m.\u001b[39m\u001b[38;5;130;01m\\n\u001b[39;00m\u001b[38;5;124m\"\u001b[39m\u001b[38;5;241m.\u001b[39m\n\u001b[1;32m    328\u001b[0m         \u001b[38;5;28mformat\u001b[39m(target_id, \u001b[38;5;124m\"\u001b[39m\u001b[38;5;124m.\u001b[39m\u001b[38;5;124m\"\u001b[39m, name), value)\n\u001b[1;32m    329\u001b[0m \u001b[38;5;28;01melse\u001b[39;00m:\n\u001b[1;32m    330\u001b[0m     \u001b[38;5;28;01mraise\u001b[39;00m Py4JError(\n\u001b[1;32m    331\u001b[0m         \u001b[38;5;124m\"\u001b[39m\u001b[38;5;124mAn error occurred while calling \u001b[39m\u001b[38;5;132;01m{0}\u001b[39;00m\u001b[38;5;132;01m{1}\u001b[39;00m\u001b[38;5;132;01m{2}\u001b[39;00m\u001b[38;5;124m. Trace:\u001b[39m\u001b[38;5;130;01m\\n\u001b[39;00m\u001b[38;5;132;01m{3}\u001b[39;00m\u001b[38;5;130;01m\\n\u001b[39;00m\u001b[38;5;124m\"\u001b[39m\u001b[38;5;241m.\u001b[39m\n\u001b[1;32m    332\u001b[0m         \u001b[38;5;28mformat\u001b[39m(target_id, \u001b[38;5;124m\"\u001b[39m\u001b[38;5;124m.\u001b[39m\u001b[38;5;124m\"\u001b[39m, name, value))\n",
      "\u001b[0;31mPy4JJavaError\u001b[0m: An error occurred while calling o159.showString.\n: org.apache.spark.SparkException: Job aborted due to stage failure: Task 2 in stage 10.0 failed 4 times, most recent failure: Lost task 2.3 in stage 10.0 (TID 138) (192.168.2.119 executor 1): com.esotericsoftware.kryo.KryoException: java.io.IOException: No space left on device\n\tat com.esotericsoftware.kryo.io.Output.flush(Output.java:188)\n\tat com.esotericsoftware.kryo.io.Output.require(Output.java:164)\n\tat com.esotericsoftware.kryo.io.Output.writeBytes(Output.java:251)\n\tat com.esotericsoftware.kryo.io.Output.writeBytes(Output.java:237)\n\tat com.esotericsoftware.kryo.serializers.DefaultArraySerializers$ByteArraySerializer.write(DefaultArraySerializers.java:49)\n\tat com.esotericsoftware.kryo.serializers.DefaultArraySerializers$ByteArraySerializer.write(DefaultArraySerializers.java:38)\n\tat com.esotericsoftware.kryo.Kryo.writeClassAndObject(Kryo.java:651)\n\tat org.apache.spark.serializer.KryoSerializationStream.writeObject(KryoSerializer.scala:269)\n\tat org.apache.spark.serializer.SerializationStream.writeAll(Serializer.scala:140)\n\tat org.apache.spark.serializer.SerializerManager.dataSerializeStream(SerializerManager.scala:177)\n\tat org.apache.spark.storage.BlockManager.$anonfun$dropFromMemory$3(BlockManager.scala:1848)\n\tat org.apache.spark.storage.BlockManager.$anonfun$dropFromMemory$3$adapted(BlockManager.scala:1843)\n\tat org.apache.spark.storage.DiskStore.put(DiskStore.scala:70)\n\tat org.apache.spark.storage.BlockManager.dropFromMemory(BlockManager.scala:1843)\n\tat org.apache.spark.storage.memory.MemoryStore.dropBlock$1(MemoryStore.scala:490)\n\tat org.apache.spark.storage.memory.MemoryStore.$anonfun$evictBlocksToFreeSpace$4(MemoryStore.scala:516)\n\tat scala.collection.immutable.Range.foreach$mVc$sp(Range.scala:158)\n\tat org.apache.spark.storage.memory.MemoryStore.evictBlocksToFreeSpace(MemoryStore.scala:507)\n\tat org.apache.spark.memory.StorageMemoryPool.freeSpaceToShrinkPool(StorageMemoryPool.scala:130)\n\tat org.apache.spark.memory.UnifiedMemoryManager.maybeGrowExecutionPool$1(UnifiedMemoryManager.scala:123)\n\tat org.apache.spark.memory.UnifiedMemoryManager.$anonfun$acquireExecutionMemory$1(UnifiedMemoryManager.scala:148)\n\tat org.apache.spark.memory.ExecutionMemoryPool.acquireMemory(ExecutionMemoryPool.scala:119)\n\tat org.apache.spark.memory.UnifiedMemoryManager.acquireExecutionMemory(UnifiedMemoryManager.scala:148)\n\tat org.apache.spark.memory.TaskMemoryManager.acquireExecutionMemory(TaskMemoryManager.java:147)\n\tat org.apache.spark.memory.TaskMemoryManager.allocatePage(TaskMemoryManager.java:297)\n\tat org.apache.spark.memory.MemoryConsumer.allocatePage(MemoryConsumer.java:116)\n\tat org.apache.spark.sql.catalyst.expressions.RowBasedKeyValueBatch.acquirePage(RowBasedKeyValueBatch.java:127)\n\tat org.apache.spark.sql.catalyst.expressions.RowBasedKeyValueBatch.<init>(RowBasedKeyValueBatch.java:107)\n\tat org.apache.spark.sql.catalyst.expressions.VariableLengthRowBasedKeyValueBatch.<init>(VariableLengthRowBasedKeyValueBatch.java:186)\n\tat org.apache.spark.sql.catalyst.expressions.RowBasedKeyValueBatch.allocate(RowBasedKeyValueBatch.java:92)\n\tat org.apache.spark.sql.catalyst.expressions.GeneratedClass$GeneratedIteratorForCodegenStage1$agg_FastHashMap_0.<init>(Unknown Source)\n\tat org.apache.spark.sql.catalyst.expressions.GeneratedClass$GeneratedIteratorForCodegenStage1.processNext(Unknown Source)\n\tat org.apache.spark.sql.execution.BufferedRowIterator.hasNext(BufferedRowIterator.java:43)\n\tat org.apache.spark.sql.execution.WholeStageCodegenExec$$anon$1.hasNext(WholeStageCodegenExec.scala:759)\n\tat scala.collection.Iterator$$anon$10.hasNext(Iterator.scala:460)\n\tat org.apache.spark.shuffle.sort.BypassMergeSortShuffleWriter.write(BypassMergeSortShuffleWriter.java:140)\n\tat org.apache.spark.shuffle.ShuffleWriteProcessor.write(ShuffleWriteProcessor.scala:59)\n\tat org.apache.spark.scheduler.ShuffleMapTask.runTask(ShuffleMapTask.scala:99)\n\tat org.apache.spark.scheduler.ShuffleMapTask.runTask(ShuffleMapTask.scala:52)\n\tat org.apache.spark.scheduler.Task.run(Task.scala:131)\n\tat org.apache.spark.executor.Executor$TaskRunner.$anonfun$run$3(Executor.scala:506)\n\tat org.apache.spark.util.Utils$.tryWithSafeFinally(Utils.scala:1462)\n\tat org.apache.spark.executor.Executor$TaskRunner.run(Executor.scala:509)\n\tat java.util.concurrent.ThreadPoolExecutor.runWorker(ThreadPoolExecutor.java:1149)\n\tat java.util.concurrent.ThreadPoolExecutor$Worker.run(ThreadPoolExecutor.java:624)\n\tat java.lang.Thread.run(Thread.java:748)\nCaused by: java.io.IOException: No space left on device\n\tat sun.nio.ch.FileDispatcherImpl.write0(Native Method)\n\tat sun.nio.ch.FileDispatcherImpl.write(FileDispatcherImpl.java:60)\n\tat sun.nio.ch.IOUtil.writeFromNativeBuffer(IOUtil.java:93)\n\tat sun.nio.ch.IOUtil.write(IOUtil.java:65)\n\tat sun.nio.ch.FileChannelImpl.write(FileChannelImpl.java:211)\n\tat org.apache.spark.storage.CountingWritableChannel.write(DiskStore.scala:339)\n\tat java.nio.channels.Channels.writeFullyImpl(Channels.java:78)\n\tat java.nio.channels.Channels.writeFully(Channels.java:101)\n\tat java.nio.channels.Channels.access$000(Channels.java:61)\n\tat java.nio.channels.Channels$1.write(Channels.java:174)\n\tat java.io.BufferedOutputStream.write(BufferedOutputStream.java:122)\n\tat net.jpountz.lz4.LZ4BlockOutputStream.flushBufferedData(LZ4BlockOutputStream.java:223)\n\tat net.jpountz.lz4.LZ4BlockOutputStream.write(LZ4BlockOutputStream.java:176)\n\tat com.esotericsoftware.kryo.io.Output.flush(Output.java:185)\n\t... 45 more\n\nDriver stacktrace:\n\tat org.apache.spark.scheduler.DAGScheduler.failJobAndIndependentStages(DAGScheduler.scala:2403)\n\tat org.apache.spark.scheduler.DAGScheduler.$anonfun$abortStage$2(DAGScheduler.scala:2352)\n\tat org.apache.spark.scheduler.DAGScheduler.$anonfun$abortStage$2$adapted(DAGScheduler.scala:2351)\n\tat scala.collection.mutable.ResizableArray.foreach(ResizableArray.scala:62)\n\tat scala.collection.mutable.ResizableArray.foreach$(ResizableArray.scala:55)\n\tat scala.collection.mutable.ArrayBuffer.foreach(ArrayBuffer.scala:49)\n\tat org.apache.spark.scheduler.DAGScheduler.abortStage(DAGScheduler.scala:2351)\n\tat org.apache.spark.scheduler.DAGScheduler.$anonfun$handleTaskSetFailed$1(DAGScheduler.scala:1109)\n\tat org.apache.spark.scheduler.DAGScheduler.$anonfun$handleTaskSetFailed$1$adapted(DAGScheduler.scala:1109)\n\tat scala.Option.foreach(Option.scala:407)\n\tat org.apache.spark.scheduler.DAGScheduler.handleTaskSetFailed(DAGScheduler.scala:1109)\n\tat org.apache.spark.scheduler.DAGSchedulerEventProcessLoop.doOnReceive(DAGScheduler.scala:2591)\n\tat org.apache.spark.scheduler.DAGSchedulerEventProcessLoop.onReceive(DAGScheduler.scala:2533)\n\tat org.apache.spark.scheduler.DAGSchedulerEventProcessLoop.onReceive(DAGScheduler.scala:2522)\n\tat org.apache.spark.util.EventLoop$$anon$1.run(EventLoop.scala:49)\nCaused by: com.esotericsoftware.kryo.KryoException: java.io.IOException: No space left on device\n\tat com.esotericsoftware.kryo.io.Output.flush(Output.java:188)\n\tat com.esotericsoftware.kryo.io.Output.require(Output.java:164)\n\tat com.esotericsoftware.kryo.io.Output.writeBytes(Output.java:251)\n\tat com.esotericsoftware.kryo.io.Output.writeBytes(Output.java:237)\n\tat com.esotericsoftware.kryo.serializers.DefaultArraySerializers$ByteArraySerializer.write(DefaultArraySerializers.java:49)\n\tat com.esotericsoftware.kryo.serializers.DefaultArraySerializers$ByteArraySerializer.write(DefaultArraySerializers.java:38)\n\tat com.esotericsoftware.kryo.Kryo.writeClassAndObject(Kryo.java:651)\n\tat org.apache.spark.serializer.KryoSerializationStream.writeObject(KryoSerializer.scala:269)\n\tat org.apache.spark.serializer.SerializationStream.writeAll(Serializer.scala:140)\n\tat org.apache.spark.serializer.SerializerManager.dataSerializeStream(SerializerManager.scala:177)\n\tat org.apache.spark.storage.BlockManager.$anonfun$dropFromMemory$3(BlockManager.scala:1848)\n\tat org.apache.spark.storage.BlockManager.$anonfun$dropFromMemory$3$adapted(BlockManager.scala:1843)\n\tat org.apache.spark.storage.DiskStore.put(DiskStore.scala:70)\n\tat org.apache.spark.storage.BlockManager.dropFromMemory(BlockManager.scala:1843)\n\tat org.apache.spark.storage.memory.MemoryStore.dropBlock$1(MemoryStore.scala:490)\n\tat org.apache.spark.storage.memory.MemoryStore.$anonfun$evictBlocksToFreeSpace$4(MemoryStore.scala:516)\n\tat scala.collection.immutable.Range.foreach$mVc$sp(Range.scala:158)\n\tat org.apache.spark.storage.memory.MemoryStore.evictBlocksToFreeSpace(MemoryStore.scala:507)\n\tat org.apache.spark.memory.StorageMemoryPool.freeSpaceToShrinkPool(StorageMemoryPool.scala:130)\n\tat org.apache.spark.memory.UnifiedMemoryManager.maybeGrowExecutionPool$1(UnifiedMemoryManager.scala:123)\n\tat org.apache.spark.memory.UnifiedMemoryManager.$anonfun$acquireExecutionMemory$1(UnifiedMemoryManager.scala:148)\n\tat org.apache.spark.memory.ExecutionMemoryPool.acquireMemory(ExecutionMemoryPool.scala:119)\n\tat org.apache.spark.memory.UnifiedMemoryManager.acquireExecutionMemory(UnifiedMemoryManager.scala:148)\n\tat org.apache.spark.memory.TaskMemoryManager.acquireExecutionMemory(TaskMemoryManager.java:147)\n\tat org.apache.spark.memory.TaskMemoryManager.allocatePage(TaskMemoryManager.java:297)\n\tat org.apache.spark.memory.MemoryConsumer.allocatePage(MemoryConsumer.java:116)\n\tat org.apache.spark.sql.catalyst.expressions.RowBasedKeyValueBatch.acquirePage(RowBasedKeyValueBatch.java:127)\n\tat org.apache.spark.sql.catalyst.expressions.RowBasedKeyValueBatch.<init>(RowBasedKeyValueBatch.java:107)\n\tat org.apache.spark.sql.catalyst.expressions.VariableLengthRowBasedKeyValueBatch.<init>(VariableLengthRowBasedKeyValueBatch.java:186)\n\tat org.apache.spark.sql.catalyst.expressions.RowBasedKeyValueBatch.allocate(RowBasedKeyValueBatch.java:92)\n\tat org.apache.spark.sql.catalyst.expressions.GeneratedClass$GeneratedIteratorForCodegenStage1$agg_FastHashMap_0.<init>(Unknown Source)\n\tat org.apache.spark.sql.catalyst.expressions.GeneratedClass$GeneratedIteratorForCodegenStage1.processNext(Unknown Source)\n\tat org.apache.spark.sql.execution.BufferedRowIterator.hasNext(BufferedRowIterator.java:43)\n\tat org.apache.spark.sql.execution.WholeStageCodegenExec$$anon$1.hasNext(WholeStageCodegenExec.scala:759)\n\tat scala.collection.Iterator$$anon$10.hasNext(Iterator.scala:460)\n\tat org.apache.spark.shuffle.sort.BypassMergeSortShuffleWriter.write(BypassMergeSortShuffleWriter.java:140)\n\tat org.apache.spark.shuffle.ShuffleWriteProcessor.write(ShuffleWriteProcessor.scala:59)\n\tat org.apache.spark.scheduler.ShuffleMapTask.runTask(ShuffleMapTask.scala:99)\n\tat org.apache.spark.scheduler.ShuffleMapTask.runTask(ShuffleMapTask.scala:52)\n\tat org.apache.spark.scheduler.Task.run(Task.scala:131)\n\tat org.apache.spark.executor.Executor$TaskRunner.$anonfun$run$3(Executor.scala:506)\n\tat org.apache.spark.util.Utils$.tryWithSafeFinally(Utils.scala:1462)\n\tat org.apache.spark.executor.Executor$TaskRunner.run(Executor.scala:509)\n\tat java.util.concurrent.ThreadPoolExecutor.runWorker(ThreadPoolExecutor.java:1149)\n\tat java.util.concurrent.ThreadPoolExecutor$Worker.run(ThreadPoolExecutor.java:624)\n\tat java.lang.Thread.run(Thread.java:748)\nCaused by: java.io.IOException: No space left on device\n\tat sun.nio.ch.FileDispatcherImpl.write0(Native Method)\n\tat sun.nio.ch.FileDispatcherImpl.write(FileDispatcherImpl.java:60)\n\tat sun.nio.ch.IOUtil.writeFromNativeBuffer(IOUtil.java:93)\n\tat sun.nio.ch.IOUtil.write(IOUtil.java:65)\n\tat sun.nio.ch.FileChannelImpl.write(FileChannelImpl.java:211)\n\tat org.apache.spark.storage.CountingWritableChannel.write(DiskStore.scala:339)\n\tat java.nio.channels.Channels.writeFullyImpl(Channels.java:78)\n\tat java.nio.channels.Channels.writeFully(Channels.java:101)\n\tat java.nio.channels.Channels.access$000(Channels.java:61)\n\tat java.nio.channels.Channels$1.write(Channels.java:174)\n\tat java.io.BufferedOutputStream.write(BufferedOutputStream.java:122)\n\tat net.jpountz.lz4.LZ4BlockOutputStream.flushBufferedData(LZ4BlockOutputStream.java:223)\n\tat net.jpountz.lz4.LZ4BlockOutputStream.write(LZ4BlockOutputStream.java:176)\n\tat com.esotericsoftware.kryo.io.Output.flush(Output.java:185)\n\t... 45 more\n"
     ]
    }
   ],
   "source": [
    "data_5.groupBy('Make').count().show()\n",
    "\n"
   ]
  },
  {
   "cell_type": "code",
   "execution_count": 57,
   "id": "d9b7eded-d22e-4a3c-911c-14c1ca14a5e5",
   "metadata": {},
   "outputs": [],
   "source": [
    "### release the cores for another application!\n",
    "spark_session.stop()"
   ]
  }
 ],
 "metadata": {
  "kernelspec": {
   "display_name": "Python 3 (ipykernel)",
   "language": "python",
   "name": "python3"
  },
  "language_info": {
   "codemirror_mode": {
    "name": "ipython",
    "version": 3
   },
   "file_extension": ".py",
   "mimetype": "text/x-python",
   "name": "python",
   "nbconvert_exporter": "python",
   "pygments_lexer": "ipython3",
   "version": "3.8.10"
  }
 },
 "nbformat": 4,
 "nbformat_minor": 5
}
